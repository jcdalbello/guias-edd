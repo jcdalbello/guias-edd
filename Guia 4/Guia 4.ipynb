{
 "cells": [
  {
   "cell_type": "markdown",
   "id": "f05b7e77-8842-4ff5-bf9f-7433e68ccb68",
   "metadata": {
    "editable": false,
    "slideshow": {
     "slide_type": ""
    },
    "tags": []
   },
   "source": [
    "<p style=\"text-align: center\">\n",
    "    <img src=\"data:image/svg+xml,%3Csvg%20version%3D%221.2%22%20baseProfile%3D%22tiny%22%20id%3D%22Capa_1%22%20xmlns%3D%22http%3A%2F%2Fwww.w3.org%2F2000%2Fsvg%22%20xmlns%3Axlink%3D%22http%3A%2F%2Fwww.w3.org%2F1999%2Fxlink%22%20x%3D%220px%22%20y%3D%220px%22%20viewBox%3D%220%200%20136.5%2058%22%20overflow%3D%22visible%22%20xml%3Aspace%3D%22preserve%22%3E%3Cstyle%20type%3D%22text%2Fcss%22%3Epath%2Cpolygon%2Crect%7Bfill%3A%231e1f1d%21important%7D%40media%20%28prefers-color-scheme%3Adark%29%7Bpath%2Cpolygon%2Crect%7Bfill%3A%23e1e0e2%21important%7D%7D%3C%2Fstyle%3E%3Cg%3E%3Cpath%20d%3D%22M0%2C33.4h1v6.3c0%2C1.1%2C0.5%2C1.7%2C1.7%2C1.7s1.7-0.5%2C1.7-1.7v-6.3h1v6.3c0%2C1.8-1%2C2.5-2.7%2C2.5C1%2C42.3%2C0%2C41.5%2C0%2C39.7%20V33.4z%22%3E%3C%2Fpath%3E%3Cpolygon%20points%3D%228.1%2C42.2%208.1%2C33.4%209.4%2C33.4%2012.6%2C40.4%2012.7%2C40.4%2012.7%2C33.4%2013.7%2C33.4%2013.7%2C42.2%2012.4%2C42.2%209.1%2C34.9%209%2C34.9%209%2C42.2%22%3E%3C%2Fpolygon%3E%3Crect%20x%3D%2216.5%22%20width%3D%221%22%20y%3D%2233.4%22%20height%3D%228.7%22%3E%3C%2Frect%3E%3Cpolygon%20points%3D%2224.4%2C33.4%2025.4%2C33.4%2023.1%2C42.2%2021.7%2C42.2%2019.4%2C33.4%2020.5%2C33.4%2022.4%2C40.9%2022.5%2C40.9%22%3E%3C%2Fpolygon%3E%3Cpolygon%20points%3D%2227.4%2C42.2%2027.4%2C33.4%2032.1%2C33.4%2032.1%2C34.3%2028.4%2C34.3%2028.4%2C37.2%2031.6%2C37.2%2031.6%2C38.1%2028.4%2C38.1%2028.4%2C41.3%2032.3%2C41.3%2032.3%2C42.2%22%3E%3C%2Fpolygon%3E%3Cpath%20d%3D%22M35.3%2C37.6h1.8c1.1%2C0%2C1.6-0.5%2C1.6-1.6c0-1.1-0.5-1.6-1.6-1.6h-1.8V37.6z%20M35.3%2C42.2h-1v-8.7h3%20c1.6%2C0%2C2.5%2C0.9%2C2.5%2C2.5c0%2C1.3-0.6%2C2-1.2%2C2.3l1.3%2C3.9h-1.1l-1.2-3.6h-2.3V42.2z%22%3E%3C%2Fpath%3E%3Cpath%20d%3D%22M46.7%2C35.6c-0.1-1-0.6-1.4-1.7-1.4c-1%2C0-1.7%2C0.4-1.7%2C1.4c0%2C1%2C0.8%2C1.2%2C1.9%2C1.6c1.4%2C0.4%2C2.7%2C0.9%2C2.7%2C2.6%20c0%2C1.7-1.1%2C2.5-2.8%2C2.5c-1.8%2C0-2.8-0.8-2.9-2.5l1-0.1c0.1%2C1.2%2C0.7%2C1.7%2C1.9%2C1.7c1.1%2C0%2C1.8-0.5%2C1.8-1.5c0-1-0.6-1.3-1.9-1.7%20c-1.4-0.4-2.6-0.8-2.6-2.5c0-1.7%2C1.1-2.4%2C2.8-2.4c1.6%2C0%2C2.6%2C0.6%2C2.8%2C2.2L46.7%2C35.6z%22%3E%3C%2Fpath%3E%3Crect%20x%3D%2250.2%22%20width%3D%221%22%20y%3D%2233.4%22%20height%3D%228.7%22%3E%3C%2Frect%3E%3Cpath%20d%3D%22M55%2C41.3h1.9c1%2C0%2C1.7-0.5%2C1.7-1.5v-4c0-1-0.6-1.5-1.7-1.5H55V41.3z%20M54%2C33.4h2.8c1.8%2C0%2C2.8%2C0.7%2C2.8%2C2.5v3.7%20c0%2C1.8-1%2C2.5-2.8%2C2.5H54V33.4z%22%3E%3C%2Fpath%3E%3Cpath%20d%3D%22M63.2%2C39.1H66l-1.3-4.6h-0.1L63.2%2C39.1z%20M62.4%2C42.2h-1.1l2.6-8.7h1.5l2.6%2C8.7h-1.1L66.3%2C40H63L62.4%2C42.2z%22%3E%3C%2Fpath%3E%3Cpath%20d%3D%22M70.9%2C41.3h1.9c1%2C0%2C1.7-0.5%2C1.7-1.5v-4c0-1-0.6-1.5-1.7-1.5h-1.9V41.3z%20M69.8%2C33.4h2.8%20c1.8%2C0%2C2.8%2C0.7%2C2.8%2C2.5v3.7c0%2C1.8-1%2C2.5-2.8%2C2.5h-2.8V33.4z%22%3E%3C%2Fpath%3E%3Cpolygon%20points%3D%2281.3%2C42.2%2081.3%2C33.4%2082.6%2C33.4%2085.8%2C40.4%2085.9%2C40.4%2085.9%2C33.4%2086.9%2C33.4%2086.9%2C42.2%2085.6%2C42.2%2082.3%2C34.9%2082.2%2C34.9%2082.2%2C42.2%22%3E%3C%2Fpolygon%3E%3Cpath%20d%3D%22M90.7%2C39.1h2.8l-1.3-4.6H92L90.7%2C39.1z%20M89.8%2C42.2h-1.1l2.6-8.7h1.5l2.6%2C8.7h-1.1L93.7%2C40h-3.3L89.8%2C42.2z%22%3E%3C%2Fpath%3E%3Cpath%20d%3D%22M101.2%2C36.1v-0.4c0-1.1-0.5-1.5-1.7-1.5c-1.1%2C0-1.8%2C0.4-1.8%2C1.5v4.1c0%2C1.1%2C0.6%2C1.5%2C1.8%2C1.5%20c1.1%2C0%2C1.7-0.5%2C1.7-1.5v-0.4l1%2C0.1v0.1c0%2C1.8-0.9%2C2.6-2.7%2C2.6c-1.8%2C0-2.8-0.7-2.8-2.5v-4c0-1.8%2C1-2.5%2C2.8-2.5%20c1.8%2C0%2C2.7%2C0.7%2C2.7%2C2.6V36L101.2%2C36.1z%22%3E%3C%2Fpath%3E%3Crect%20x%3D%22104.7%22%20width%3D%221%22%20y%3D%2233.4%22%20height%3D%228.7%22%3E%3C%2Frect%3E%3Cpath%20d%3D%22M109.3%2C39.9c0%2C1.1%2C0.7%2C1.5%2C1.8%2C1.5c1.1%2C0%2C1.8-0.4%2C1.8-1.5v-4.1c0-1.1-0.7-1.5-1.8-1.5%20c-1.1%2C0-1.8%2C0.4-1.8%2C1.5V39.9z%20M108.3%2C35.8c0-1.9%2C1-2.5%2C2.8-2.5c1.8%2C0%2C2.8%2C0.7%2C2.8%2C2.5v3.9c0%2C1.9-1%2C2.5-2.8%2C2.5%20c-1.8%2C0-2.8-0.7-2.8-2.5V35.8z%22%3E%3C%2Fpath%3E%3Cpolygon%20points%3D%22116.5%2C42.2%20116.5%2C33.4%20117.8%2C33.4%20121%2C40.4%20121.1%2C40.4%20121.1%2C33.4%20122%2C33.4%20122%2C42.2%20120.8%2C42.2%20117.5%2C34.9%20117.4%2C34.9%20117.4%2C42.2%22%3E%3C%2Fpolygon%3E%3Cpath%20d%3D%22M125.9%2C39.1h2.8l-1.3-4.6h-0.1L125.9%2C39.1z%20M125%2C42.2h-1.1l2.6-8.7h1.5l2.6%2C8.7h-1.1l-0.6-2.1h-3.3%20L125%2C42.2z%22%3E%3C%2Fpath%3E%3Cpolygon%20points%3D%22132.5%2C42.2%20132.5%2C33.4%20133.5%2C33.4%20133.5%2C41.3%20136.5%2C41.3%20136.5%2C42.2%22%3E%3C%2Fpolygon%3E%3Cpath%20d%3D%22M1.2%2C57h1.9c1%2C0%2C1.7-0.5%2C1.7-1.5v-4c0-1-0.6-1.5-1.7-1.5H1.2V57z%20M0.1%2C49.1H3c1.8%2C0%2C2.8%2C0.7%2C2.8%2C2.5v3.7%20c0%2C1.8-1%2C2.5-2.8%2C2.5H0.1V49.1z%22%3E%3C%2Fpath%3E%3Cpolygon%20points%3D%228.3%2C57.9%208.3%2C49.1%2013%2C49.1%2013%2C50%209.3%2C50%209.3%2C52.9%2012.6%2C52.9%2012.6%2C53.8%209.3%2C53.8%209.3%2C57%2013.2%2C57%2013.2%2C57.9%22%3E%3C%2Fpolygon%3E%3Cpolygon%20points%3D%2219.7%2C50.1%2017.6%2C50.1%2017.6%2C49.1%2022.7%2C49.1%2022.7%2C50.1%2020.7%2C50.1%2020.7%2C57.9%2019.7%2C57.9%22%3E%3C%2Fpolygon%3E%3Cpath%20d%3D%22M25.6%2C53.3h1.8c1.1%2C0%2C1.6-0.5%2C1.6-1.6c0-1.1-0.5-1.6-1.6-1.6h-1.8V53.3z%20M25.6%2C57.9h-1v-8.7h3%20c1.6%2C0%2C2.5%2C0.9%2C2.5%2C2.5c0%2C1.3-0.6%2C2-1.2%2C2.3l1.3%2C3.9h-1.1l-1.2-3.6h-2.3V57.9z%22%3E%3C%2Fpath%3E%3Cpolygon%20points%3D%2232.8%2C57.9%2032.8%2C49.1%2037.5%2C49.1%2037.5%2C50%2033.8%2C50%2033.8%2C52.9%2037%2C52.9%2037%2C53.8%2033.8%2C53.8%2033.8%2C57%2037.7%2C57%2037.7%2C57.9%22%3E%3C%2Fpolygon%3E%3Cpath%20d%3D%22M44%2C51.3c-0.1-1-0.6-1.4-1.7-1.4c-1%2C0-1.7%2C0.4-1.7%2C1.4c0%2C1%2C0.8%2C1.2%2C1.9%2C1.6c1.4%2C0.4%2C2.7%2C0.9%2C2.7%2C2.6%20c0%2C1.7-1.1%2C2.5-2.8%2C2.5c-1.8%2C0-2.8-0.8-2.9-2.5l1-0.1c0.1%2C1.2%2C0.7%2C1.7%2C1.9%2C1.7c1.1%2C0%2C1.8-0.5%2C1.8-1.5c0-1-0.6-1.3-1.9-1.7%20c-1.4-0.4-2.6-0.8-2.6-2.5c0-1.7%2C1.1-2.4%2C2.8-2.4c1.6%2C0%2C2.6%2C0.6%2C2.8%2C2.2L44%2C51.3z%22%3E%3C%2Fpath%3E%3Cpath%20d%3D%22M51.8%2C57h1.9c1.1%2C0%2C1.7-0.5%2C1.7-1.5v-4c0-1-0.6-1.5-1.7-1.5h-1.9V57z%20M50.8%2C49.1h2.8c1.8%2C0%2C2.8%2C0.7%2C2.8%2C2.5%20v3.7c0%2C1.8-1%2C2.5-2.8%2C2.5h-2.8V49.1z%22%3E%3C%2Fpath%3E%3Cpolygon%20points%3D%2258.9%2C57.9%2058.9%2C49.1%2063.6%2C49.1%2063.6%2C50%2059.9%2C50%2059.9%2C52.9%2063.2%2C52.9%2063.2%2C53.8%2059.9%2C53.8%2059.9%2C57%2063.8%2C57%2063.8%2C57.9%22%3E%3C%2Fpolygon%3E%3Cpolygon%20points%3D%2269.2%2C57.9%2069.2%2C49.1%2073.6%2C49.1%2073.6%2C50%2070.2%2C50%2070.2%2C52.9%2073.2%2C52.9%2073.2%2C53.8%2070.2%2C53.8%2070.2%2C57.9%22%3E%3C%2Fpolygon%3E%3Cpolygon%20points%3D%2275.6%2C57.9%2075.6%2C49.1%2080.3%2C49.1%2080.3%2C50%2076.6%2C50%2076.6%2C52.9%2079.8%2C52.9%2079.8%2C53.8%2076.6%2C53.8%2076.6%2C57%2080.5%2C57%2080.5%2C57.9%22%3E%3C%2Fpolygon%3E%3Cpath%20d%3D%22M83.5%2C57h2.1c1.1%2C0%2C1.7-0.6%2C1.7-1.6c0-1.1-0.6-1.6-1.7-1.6h-2V57z%20M83.5%2C52.9h2c1%2C0%2C1.5-0.5%2C1.5-1.4%20c0-1-0.5-1.4-1.5-1.4h-2V52.9z%20M82.5%2C49.1h3.3c1.6%2C0%2C2.3%2C0.7%2C2.3%2C2.2c0%2C1-0.3%2C1.6-1%2C1.9v0.1c0.6%2C0.2%2C1.2%2C0.9%2C1.2%2C2.1%20c0%2C1.5-0.7%2C2.4-2.4%2C2.4h-3.4V49.1z%22%3E%3C%2Fpath%3E%3Cpath%20d%3D%22M91.9%2C53.3h1.8c1.1%2C0%2C1.6-0.5%2C1.6-1.6c0-1.1-0.5-1.6-1.6-1.6h-1.8V53.3z%20M91.9%2C57.9h-1v-8.7h3%20c1.6%2C0%2C2.5%2C0.9%2C2.5%2C2.5c0%2C1.3-0.6%2C2-1.2%2C2.3l1.3%2C3.9h-1.1l-1.2-3.6h-2.3V57.9z%22%3E%3C%2Fpath%3E%3Cpolygon%20points%3D%2299%2C57.9%2099%2C49.1%20103.7%2C49.1%20103.7%2C50%20100%2C50%20100%2C52.9%20103.3%2C52.9%20103.3%2C53.8%20100%2C53.8%20100%2C57%20103.9%2C57%20103.9%2C57.9%22%3E%3C%2Fpolygon%3E%3Cpath%20d%3D%22M107%2C53.3h1.8c1.1%2C0%2C1.6-0.5%2C1.6-1.6c0-1.1-0.5-1.6-1.6-1.6H107V53.3z%20M107%2C57.9h-1v-8.7h3%20c1.6%2C0%2C2.5%2C0.9%2C2.5%2C2.5c0%2C1.3-0.6%2C2-1.2%2C2.3l1.3%2C3.9h-1.1l-1.2-3.6H107V57.9z%22%3E%3C%2Fpath%3E%3Cpath%20d%3D%22M114.9%2C55.6c0%2C1.1%2C0.7%2C1.5%2C1.8%2C1.5c1.1%2C0%2C1.8-0.4%2C1.8-1.5v-4.1c0-1.1-0.7-1.5-1.8-1.5%20c-1.1%2C0-1.8%2C0.4-1.8%2C1.5V55.6z%20M113.9%2C51.5c0-1.9%2C1-2.5%2C2.8-2.5c1.8%2C0%2C2.8%2C0.7%2C2.8%2C2.5v3.9c0%2C1.9-1%2C2.5-2.8%2C2.5%20c-1.8%2C0-2.8-0.7-2.8-2.5V51.5z%22%3E%3C%2Fpath%3E%3Crect%20y%3D%2223.7%22%20width%3D%2296.4%22%20height%3D%223.6%22%3E%3C%2Frect%3E%3Cpath%20d%3D%22M69.1%2C17.5V0h11.5v2.9h-8V7h7.3v2.9h-7.3v4.7H81v2.9H69.1z%20M85.3%2C17.5V0h11v2.9h-7.6V7h6.9v2.9h-6.9v7.6%20H85.3z%20M54.5%2C17.5H51V0h7.2C62.1%2C0%2C64%2C1.8%2C64%2C5.3c0%2C2.8-1.4%2C4.1-2.7%2C4.6l2.9%2C7.6h-3.8L58%2C10.5h-3.5V17.5z%20M54.5%2C7.7h2.9%20c2%2C0%2C3-0.6%2C3-2.5c0-1.9-1-2.5-3-2.5h-2.9V7.7z%20M39.9%2C2.9h-4.4V0h12.4v2.9h-4.4v14.6h-3.5V2.9z%20M18.8%2C17.5V0h4.1l5.8%2C11.7h0.2V0h3.4%20v17.5h-4L22.2%2C5.3h-0.2v12.2H18.8z%20M0.1%2C0h3.5v12.1c0%2C2%2C1%2C2.8%2C3%2C2.8c2%2C0%2C3-0.8%2C3-2.8V0h3.5v12.1c0%2C3.8-2.3%2C5.7-6.5%2C5.7%20c-4.2%2C0-6.5-1.9-6.5-5.7V0z%22%3E%3C%2Fpath%3E%3C%2Fg%3E%3C%2Fsvg%3E\" style=\"height: 50px;\" />\n",
    "</p>\n",
    "\n",
    "<h3 style=\"text-align: center\">Estructura de Datos</h3>\n",
    "\n",
    "<h2 style=\"text-align: center\">Guía 4: Grafos</h3>"
   ]
  },
  {
   "cell_type": "markdown",
   "id": "bb37ddd9-6839-4872-bcaf-a8e7ca3c3552",
   "metadata": {
    "editable": false,
    "slideshow": {
     "slide_type": ""
    },
    "tags": []
   },
   "source": [
    "**Ej 1**: Implemete la clase `Grafo` sobre una matríz de adyacencias. Se debe poder representar grafos dirigidos, no dirigidos, con pesos y sin pesos"
   ]
  },
  {
   "cell_type": "code",
   "execution_count": 2,
   "id": "5d2b5ac0-0b95-4c51-b5dd-8205d7f958b8",
   "metadata": {
    "editable": true,
    "slideshow": {
     "slide_type": ""
    },
    "tags": []
   },
   "outputs": [],
   "source": [
    "\"\"\"\n",
    "Cada nodo es representado como un entero a partir del 0.\n",
    "\"\"\"\n",
    "\n",
    "class Grafo:\n",
    "    def __init__(self, cantidad_vertices):\n",
    "        self.cantidad_vertices = cantidad_vertices\n",
    "        self.matriz_adyacencia = [[None for _ in range(cantidad_vertices)] for _ in range(cantidad_vertices)]\n",
    "        \n",
    "\n",
    "    def agregar_vertice(self) -> None:\n",
    "        self.cantidad_vertices += 1\n",
    "        for fila in self.matriz_adyacencia:\n",
    "            fila.append(None)\n",
    "        self.matriz_adyacencia.append([None for _ in range(cantidad_vertices)])\n",
    "\n",
    "    \n",
    "    def agregar_arista(self, vertice_fuente: int, vertice_destino: int, peso=1) -> None:\n",
    "        self.matriz_adyacencia[vertice_fuente][vertice_destino] = peso\n",
    "\n",
    "\n",
    "    def obtener_matriz_adyacencia(self) -> list[list[int]]:\n",
    "        return self.matriz_adyacencia\n",
    "\n",
    "\n",
    "    def obtener_cantidad_vertices(self) -> int:\n",
    "        return self.cantidad_vertices\n",
    "\n",
    "\n",
    "    def vertices_adyacentes(self, vertice: int) -> list[int]:\n",
    "        vertices = []\n",
    "        for i in range(self.cantidad_vertices):\n",
    "            if self.matriz_adyacencia[vertice][i] != None: vertices.append(i)\n",
    "        return vertices\n",
    "\n",
    "    \n",
    "    def imprimir_matriz(self):\n",
    "        for fila in self.matriz_adyacencia:\n",
    "            print(fila)\n"
   ]
  },
  {
   "cell_type": "code",
   "execution_count": 26,
   "id": "c2c8ba18-528f-4548-a12d-6ffa4726e6d2",
   "metadata": {},
   "outputs": [
    {
     "name": "stdout",
     "output_type": "stream",
     "text": [
      "[None, None, None]\n",
      "[None, None, None]\n",
      "[None, None, None]\n",
      "\n",
      "[None, 5, 8]\n",
      "[None, None, 12]\n",
      "[8, None, None]\n",
      "\n"
     ]
    }
   ],
   "source": [
    "grafo=Grafo(3)\n",
    "grafo.imprimir_matriz()\n",
    "print()\n",
    "grafo.agregar_arista(0,1,5)\n",
    "grafo.agregar_arista(1,2,12)\n",
    "grafo.agregar_arista(2,0,8)\n",
    "grafo.agregar_arista(0,2,8)\n",
    "grafo.imprimir_matriz()\n",
    "print()\n"
   ]
  },
  {
   "cell_type": "markdown",
   "id": "e95d3910-dbf5-4e1c-81ee-2e4e98835747",
   "metadata": {
    "editable": false,
    "slideshow": {
     "slide_type": ""
    },
    "tags": []
   },
   "source": [
    "**Ej 2**: Dado el siguiente grafo:\n",
    "\n",
    "|   | A | B | C | D | E | F | G |\n",
    "|---|---|---|---|---|---|---|---|\n",
    "| A | - | 5 | 3 | - | - | - | - |\n",
    "| B | - | - | 2 | - | 3 | - | 1 |\n",
    "| C | - | - | - | 7 | 7 | - | - |\n",
    "| D | - | - | - | - | - | 6 | - |\n",
    "| E | - | - | - | 2 | - | 1 | - |\n",
    "| F | - | - | - | - | - | - | - |\n",
    "| G | - | - | - | - | - | 1 | - |\n",
    "\n",
    "Calcule un orden topológico"
   ]
  },
  {
   "cell_type": "markdown",
   "id": "84b59fae-873f-4867-a13e-43ac5cee14d6",
   "metadata": {
    "editable": true,
    "slideshow": {
     "slide_type": ""
    },
    "tags": []
   },
   "source": [
    "_(resolver en esta celda)_\n",
    "\n",
    "1. Cargar en una cola q los vertices con grado de incidencia 0:\n",
    "    q = [A]\n",
    "2. Orden=[]\n",
    "3. Desencolar A de q. q = []\n",
    "4. Orden=[A]\n",
    "5. Vertices adyacentes a A = [B, C, G]:\n",
    "    a. grado incidencia de B--, grado de incidencia de B = 0, encolar B ->\n",
    "       q=[B]\n",
    "    b. grado incidencia de C--, grado de incidencia de C = 1\n",
    "    c. grado de incidencia de G--, grado de incidencia de G=0, encolar G -> q=[B,G]\n",
    "6. Desencolar B de q. q = []\n",
    "7. Orden=[A,B]\n",
    "8. Vertices adyacentes a B = [C, E]\n",
    "    a. grado de incidencia de C--, grado de incidencia de C=0, encolar C -> q=[G,C]\n",
    "    b. grado de incidencia de E--, grado de incidencia de E=1\n",
    "9. Desencolar G de q. q=[C]\n",
    "10. Order=[A,B,G]\n",
    "11. Vertices adyacentes a G=[F]\n",
    "    a. grado de incidencia de F--, grado de incidencia de F=2\n",
    "12. Desencolar C de q. q=[]\n",
    "13. Orden=[A,B,G,C]\n",
    "14. Vertices adyacentes a C=[D, E]\n",
    "    a. grado de incidencia de D--, grado de incidencia de D=1\n",
    "    b. grado de incidencia de E--, grado de incidencia de E=0, encolar E -> q=[E]\n",
    "15. Desencolar E de q. q=[]\n",
    "16. Orden=[A,B,G,C,E]\n",
    "17. Vertices adyacentes a E=[D, F]\n",
    "    a. grado de incidencia de D--, grado de incidencia de D=0, encolar D -> q=[D]\n",
    "    b. grado de incidencia de F--, grado de incidencia de F=1\n",
    "18. Desencolar D de q. q=[]\n",
    "19. Orden=[A,B,G,C,E,D]\n",
    "20. Vertices adyacentes a D=[F]\n",
    "    a. grado de incidencia de F--, grado de incidencia de F=0, encolar F -> q=[F]\n",
    "21. Desencolar F de q. q=[]\n",
    "22. Orden=[A,B,G,C,E,D,F]\n",
    "23. Vertices adyacentes a F=[]\n",
    "24. Cola q vacia\n",
    "25. No hubo vertices sin visitar, no hubo bucles.\n",
    "26. Fin del algoritmo\n",
    "    "
   ]
  },
  {
   "attachments": {
    "44d7704e-4a88-4f47-aa50-c645a184cef9.png": {
     "image/png": "[encoded data removed]"
    }
   },
   "cell_type": "markdown",
   "id": "a7ab65bc-e4d1-4930-8f53-ea37a80aff94",
   "metadata": {
    "editable": false,
    "slideshow": {
     "slide_type": ""
    },
    "tags": []
   },
   "source": [
    "**Ej 3**: Dado el siguiente grafo:\n",
    "\n",
    "![image.png](attachment:44d7704e-4a88-4f47-aa50-c645a184cef9.png)\n",
    "\n",
    "1. Dar la representación del grafo con una matriz de adyacencia.\n",
    "2. Dar la representación del grafo listas de adyacencia.\n",
    "3. Calcule un orden topológico. Mostrar el grado de entrada de cada vértice."
   ]
  },
  {
   "cell_type": "code",
   "execution_count": 27,
   "id": "cd927141-66e8-4d61-9598-15720d8c73a6",
   "metadata": {
    "editable": true,
    "slideshow": {
     "slide_type": ""
    },
    "tags": []
   },
   "outputs": [],
   "source": [
    "# 1.\n",
    "G = [\n",
    "    [None, None, None, 1, 2, None, None],\n",
    "    [None, None, None, 3, 10, None, None],\n",
    "    [4, None, None, None, None, 5, None],\n",
    "    [None, None, None, None, 2, 8, 4],\n",
    "    [None, None, None, None, None, None, 6],\n",
    "    [None, None, None, None, 2, None, None],\n",
    "    [None, None, None, None, None, None, None]\n",
    "]"
   ]
  },
  {
   "cell_type": "code",
   "execution_count": 28,
   "id": "4207d51f-4c68-4dd0-a554-8fa34a52ee18",
   "metadata": {
    "editable": true,
    "slideshow": {
     "slide_type": ""
    },
    "tags": []
   },
   "outputs": [],
   "source": [
    "# 2.\n",
    "G = [\n",
    "    [(3,1), (4,2)],\n",
    "    [(3,3), (4,10)],\n",
    "    [(0,4), (5,5)],\n",
    "    [(4,2), (5,8), (6,4)],\n",
    "    [(6,6)],\n",
    "    [(4,2)],\n",
    "    []\n",
    "]"
   ]
  },
  {
   "cell_type": "markdown",
   "id": "e1c6a5e5-af43-4204-b82c-3d0f4bf551ec",
   "metadata": {
    "editable": true,
    "slideshow": {
     "slide_type": ""
    },
    "tags": []
   },
   "source": [
    "_(3)_\n",
    "Grados de entrada:\n",
    "    V0: 1\n",
    "    V1: 0\n",
    "    V2: 0\n",
    "    V3: 2\n",
    "    V4: 4\n",
    "    V5: 2\n",
    "    V6: 2\n",
    "\n",
    "Orden=[V1, V2, V0, V3, V5, V4, V6]"
   ]
  },
  {
   "cell_type": "markdown",
   "id": "2a92157f-8da8-43b4-957d-9ef1beb05ff2",
   "metadata": {
    "editable": false,
    "slideshow": {
     "slide_type": ""
    },
    "tags": []
   },
   "source": [
    "**Ej 4**: Dada la implementación de grafos sobre matriz de adyacencias del primer ejercicio, escribir una función que reciba un grafo y devuelva `True` si el grafo es dirigido o `False` en caso contrario."
   ]
  },
  {
   "cell_type": "code",
   "execution_count": 2,
   "id": "bdc4c4be-7482-49a4-bd24-3571ee054284",
   "metadata": {
    "editable": true,
    "slideshow": {
     "slide_type": ""
    },
    "tags": []
   },
   "outputs": [],
   "source": [
    "def es_dirigido(g: Grafo) -> bool:\n",
    "    \"\"\"\n",
    "    El grafo va a ser no dirigido unicamente cuando se cumpla que para toda arista del grafo existe otra en sentido contrario.\n",
    "    En terminos de la matriz de adyacencia, se cumple si para para cada posicion de la matriz m[i][j] existe un valor tambien en la posicion m[j][i]\n",
    "    \"\"\"\n",
    "    cantidad_vertices = g.obtener_cantidad_vertices()\n",
    "    matriz_adyacencia = g.obtener_matriz_adyacencia()\n",
    "    \n",
    "    for i in range(cantidad_vertices):\n",
    "        for j in range(i, cantidad_vertices):\n",
    "            if matriz_adyacencia[i][j] != matriz_adyacencia[j][i]:\n",
    "                return False\n",
    "    return True"
   ]
  },
  {
   "cell_type": "code",
   "execution_count": 7,
   "id": "82023474-c262-4331-ba80-e8c62449afcf",
   "metadata": {},
   "outputs": [
    {
     "name": "stdout",
     "output_type": "stream",
     "text": [
      "[None, 1, 1, None]\n",
      "[1, None, None, 1]\n",
      "[1, None, None, None]\n",
      "[None, 1, None, None]\n",
      "True\n",
      "[None, 1, 1, None]\n",
      "[1, None, None, 1]\n",
      "[None, None, None, None]\n",
      "[None, None, None, None]\n",
      "False\n"
     ]
    }
   ],
   "source": [
    "g_dirigido = Grafo(4)\n",
    "g_dirigido.agregar_arista(0,1)\n",
    "g_dirigido.agregar_arista(1,0)\n",
    "g_dirigido.agregar_arista(0,2)\n",
    "g_dirigido.agregar_arista(2,0)\n",
    "g_dirigido.agregar_arista(1,3)\n",
    "g_dirigido.agregar_arista(3,1)\n",
    "g_dirigido.imprimir_matriz()\n",
    "print(es_dirigido(g_dirigido))\n",
    "\n",
    "g_no_dirigido = Grafo(4)\n",
    "g_no_dirigido.agregar_arista(0,1)\n",
    "g_no_dirigido.agregar_arista(1,0)\n",
    "g_no_dirigido.agregar_arista(0,2)\n",
    "g_no_dirigido.agregar_arista(1,3)\n",
    "g_no_dirigido.imprimir_matriz()\n",
    "print(es_dirigido(g_no_dirigido))"
   ]
  },
  {
   "cell_type": "markdown",
   "id": "910af5dd-4922-4218-bce3-01f801f4f586",
   "metadata": {
    "editable": false,
    "slideshow": {
     "slide_type": ""
    },
    "tags": []
   },
   "source": [
    "**Ej 5**: Dada la implementación de grafos sobre matriz de adyacencias del primer ejercicio, escribir un algoritmo que devuela el grado de entrada de cada vértice como una lista de tuplas."
   ]
  },
  {
   "cell_type": "code",
   "execution_count": 11,
   "id": "a73735af-6a2a-4de0-b0b4-f4c5c1cec33a",
   "metadata": {
    "editable": true,
    "slideshow": {
     "slide_type": ""
    },
    "tags": []
   },
   "outputs": [],
   "source": [
    "def grados_de_entrada(g: Grafo) -> list[tuple[str, int]]:\n",
    "    cantidad_vertices = g.obtener_cantidad_vertices()\n",
    "    matriz_adyacencia = g.obtener_matriz_adyacencia()\n",
    "    grados = []\n",
    "\n",
    "    for i in range(cantidad_vertices):\n",
    "        grado = 0\n",
    "        for j in range(cantidad_vertices):\n",
    "            if matriz_adyacencia[j][i] != None: grado += 1\n",
    "        grados.append((f\"{i}\", grado))\n",
    "\n",
    "    return grados"
   ]
  },
  {
   "cell_type": "code",
   "execution_count": 12,
   "id": "289de86f-1492-46b9-b70e-5239f8fc7114",
   "metadata": {
    "editable": true,
    "slideshow": {
     "slide_type": ""
    },
    "tags": []
   },
   "outputs": [
    {
     "name": "stdout",
     "output_type": "stream",
     "text": [
      "[None, 1, 1, None]\n",
      "[1, None, None, 1]\n",
      "[1, None, None, None]\n",
      "[None, 1, None, None]\n",
      "[('0', 2), ('1', 2), ('2', 1), ('3', 1)]\n"
     ]
    }
   ],
   "source": [
    "g1 = Grafo(4)\n",
    "g1.agregar_arista(0,1)\n",
    "g1.agregar_arista(1,0)\n",
    "g1.agregar_arista(0,2)\n",
    "g1.agregar_arista(2,0)\n",
    "g1.agregar_arista(1,3)\n",
    "g1.agregar_arista(3,1)\n",
    "g1.imprimir_matriz()\n",
    "print(grados_de_entrada(g1))"
   ]
  },
  {
   "cell_type": "markdown",
   "id": "5d4f7ec7-e0ad-49e5-9e75-655895599660",
   "metadata": {
    "editable": false,
    "slideshow": {
     "slide_type": ""
    },
    "tags": []
   },
   "source": [
    "**Ej 6**: Dada la implementación de grafos sobre matriz de adyacencias del primer ejercicio, implementar el algoritmo de Orden Topológico usando una pila en lugar de una cola. ¿Qué diferencias hay entre usar una pila o una cola para implementar el algoritmo?"
   ]
  },
  {
   "cell_type": "code",
   "execution_count": 5,
   "id": "e5655f09-fae9-4344-a77f-83123da44bdd",
   "metadata": {
    "editable": true,
    "slideshow": {
     "slide_type": ""
    },
    "tags": []
   },
   "outputs": [],
   "source": [
    "from typing import Callable\n",
    "\n",
    "from edd.pila import Pila\n",
    "\n",
    "\n",
    "class GrafoConCicloError(Exception):\n",
    "    pass\n",
    "\n",
    "\n",
    "def orden_topologico_con_pila(g: Grafo, visitar: Callable[[str], None]) -> None:\n",
    "    stack = Pila()\n",
    "    grados = [grado for _, grado in grados_de_entrada(g)]\n",
    "    visitados = {v:False for v in range(g.obtener_cantidad_vertices())}\n",
    "    matriz_adyacencia = g.obtener_matriz_adyacencia()\n",
    "\n",
    "    for vertice, grado in enumerate(grados):\n",
    "        if grado == 0: stack.apilar(vertice)\n",
    "\n",
    "    while not stack.esta_vacia():\n",
    "        v = stack.desapilar()\n",
    "        visitar(v)\n",
    "        visitados[v] = True\n",
    "\n",
    "        for w in g.vertices_adyacentes(v):\n",
    "            grados[w] -= 1\n",
    "            if grados[w] == 0: stack(w)\n",
    "\n",
    "    if False in visitados.values():\n",
    "        raise GrafoConCicloError\n",
    "        "
   ]
  },
  {
   "cell_type": "markdown",
   "id": "38fdba27-5004-4431-a00e-8305318b531a",
   "metadata": {
    "editable": true,
    "slideshow": {
     "slide_type": ""
    },
    "tags": []
   },
   "source": [
    "Diferencias entre usar pila o cola: para el caso del algoritmo de orden topologico, no importa usar una pila en vez de una cola, ya que el unico cambio es que los vertices van a ser visitados en otro orden, pero este va a ser igualmente valido, ya que el orden topologico admite mas de un resultado y los vertices que se agregan a la cola (o pila en este caso) ya se pueden contar como visitados porque solo se agregan aquellos vertices con grado de incidencia 0, que ya \"no se van a utilizar\"."
   ]
  },
  {
   "attachments": {},
   "cell_type": "markdown",
   "id": "28070546-ffda-4931-ae69-0b1bbfb39ad8",
   "metadata": {
    "editable": false,
    "slideshow": {
     "slide_type": ""
    },
    "tags": []
   },
   "source": [
    "**Ej 7**: Dado un grafo dirigido $G$, escribir un algoritmo que calcule $G^T$, donde $G^T$ es el grafo que se obtiene con los mismos vértices de $G$ y revirtiendo las aristas, por ejemplo si en $G$ hay una arista con origen en $A$ y destino $B$, en $G^T$ esa arista tiene origen en $B$ y destino $A$."
   ]
  },
  {
   "cell_type": "code",
   "execution_count": 20,
   "id": "e1fce9bc-c8c5-4ca2-acf4-edcdddffab4f",
   "metadata": {
    "editable": true,
    "slideshow": {
     "slide_type": ""
    },
    "tags": []
   },
   "outputs": [],
   "source": [
    "from edd.grafo import DiGrafo\n",
    "\n",
    "\n",
    "def revertir(g: DiGrafo) -> DiGrafo:\n",
    "    nuevo_g = DiGrafo()\n",
    "\n",
    "    for aristas in g.aristas:\n",
    "        nuevo_g.agregar_arista(arista.origen.id, arista.destino.id, arista.peso)\n",
    "\n",
    "    return nuevo_g"
   ]
  },
  {
   "cell_type": "code",
   "execution_count": 21,
   "id": "31cc8f45-6814-436c-83f0-75b9c308e787",
   "metadata": {
    "editable": true,
    "slideshow": {
     "slide_type": ""
    },
    "tags": []
   },
   "outputs": [
    {
     "data": {
      "image/png": "[encoded data removed]",
      "text/plain": [
       "<Figure size 640x480 with 1 Axes>"
      ]
     },
     "metadata": {},
     "output_type": "display_data"
    },
    {
     "data": {
      "text/plain": [
       "{Arista(Vertice('V0'), Vertice('V0'), 4),\n",
       " Arista(Vertice('V1'), Vertice('V1'), 2),\n",
       " Arista(Vertice('V2'), Vertice('V2'), 1),\n",
       " Arista(Vertice('V3'), Vertice('V3'), 7)}"
      ]
     },
     "execution_count": 21,
     "metadata": {},
     "output_type": "execute_result"
    }
   ],
   "source": [
    "g=DiGrafo()\n",
    "g.agregar_arista(\"V0\", \"V1\", 2)\n",
    "g.agregar_arista(\"V2\", \"V0\", 4)\n",
    "g.agregar_arista(\"V1\", \"V2\", 1)\n",
    "g.agregar_arista(\"V2\", \"V3\", 7)\n",
    "g.draw()\n",
    "g._aristas"
   ]
  },
  {
   "cell_type": "markdown",
   "id": "820fe307-4674-456c-bac2-1a65d128e6ef",
   "metadata": {
    "editable": false,
    "slideshow": {
     "slide_type": ""
    },
    "tags": []
   },
   "source": [
    "**Ej 8**: Agregar un método a la clase `Grafo` dada en clase, que permita eliminar un vértice y todas las aristas que salen o llegan a ese vértice."
   ]
  },
  {
   "cell_type": "code",
   "execution_count": null,
   "id": "0b5cbf78-de19-4a5d-8443-604936cbcc12",
   "metadata": {
    "editable": true,
    "slideshow": {
     "slide_type": ""
    },
    "tags": []
   },
   "outputs": [],
   "source": [
    "from edd.grafo import Grafo\n",
    "\n",
    "\n",
    "def eliminal_vertice(self, v: str) -> None:\n",
    "    pass\n",
    "\n",
    "\n",
    "Grafo.eliminal_vertice = eliminal_vertice"
   ]
  },
  {
   "cell_type": "markdown",
   "id": "3f3ef270-b78f-41e3-8201-388c05f8f69a",
   "metadata": {
    "editable": false,
    "slideshow": {
     "slide_type": ""
    },
    "tags": []
   },
   "source": [
    "**Ej 9**: Agregar un método a la clase `DiGrafo` dada en clase, que devuelva `True` si el grafo es acíclico o `False` en caso contrario."
   ]
  },
  {
   "cell_type": "code",
   "execution_count": 28,
   "id": "a9bd2e5a-db48-44be-b5c8-bab5b5be6d26",
   "metadata": {
    "editable": true,
    "slideshow": {
     "slide_type": ""
    },
    "tags": []
   },
   "outputs": [],
   "source": [
    "from edd.grafo import DiGrafo\n",
    "from edd.grafo import Vertice\n",
    "from edd.cola import Cola\n",
    "\n",
    "g = DiGrafo()\n",
    "\n",
    "def es_dag(self) -> bool:\n",
    "    pass\n",
    "            \n",
    "\n",
    "DiGrafo.es_dag = es_dag"
   ]
  },
  {
   "cell_type": "code",
   "execution_count": null,
   "id": "36220b29-6be7-4780-aba4-2cd088543e1e",
   "metadata": {
    "editable": true,
    "slideshow": {
     "slide_type": ""
    },
    "tags": []
   },
   "outputs": [],
   "source": [
    "# Tests"
   ]
  }
 ],
 "metadata": {
  "kernelspec": {
   "display_name": "Python 3 (ipykernel)",
   "language": "python",
   "name": "python3"
  },
  "language_info": {
   "codemirror_mode": {
    "name": "ipython",
    "version": 3
   },
   "file_extension": ".py",
   "mimetype": "text/x-python",
   "name": "python",
   "nbconvert_exporter": "python",
   "pygments_lexer": "ipython3",
   "version": "3.12.6"
  },
  "rise": {
   "start_slideshow_at": "beginning"
  }
 },
 "nbformat": 4,
 "nbformat_minor": 5
}
