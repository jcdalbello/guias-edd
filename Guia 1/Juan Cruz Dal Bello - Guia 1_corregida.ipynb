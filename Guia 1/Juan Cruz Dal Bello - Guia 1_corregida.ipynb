{
 "cells": [
  {
   "cell_type": "markdown",
   "id": "f05b7e77-8842-4ff5-bf9f-7433e68ccb68",
   "metadata": {
    "editable": false,
    "id": "f05b7e77-8842-4ff5-bf9f-7433e68ccb68",
    "tags": []
   },
   "source": [
    "<p style=\"text-align: center\">\n",
    "    <img src=\"data:image/svg+xml,%3Csvg%20version%3D%221.2%22%20baseProfile%3D%22tiny%22%20id%3D%22Capa_1%22%20xmlns%3D%22http%3A%2F%2Fwww.w3.org%2F2000%2Fsvg%22%20xmlns%3Axlink%3D%22http%3A%2F%2Fwww.w3.org%2F1999%2Fxlink%22%20x%3D%220px%22%20y%3D%220px%22%20viewBox%3D%220%200%20136.5%2058%22%20overflow%3D%22visible%22%20xml%3Aspace%3D%22preserve%22%3E%3Cstyle%20type%3D%22text%2Fcss%22%3Epath%2Cpolygon%2Crect%7Bfill%3A%231e1f1d%21important%7D%40media%20%28prefers-color-scheme%3Adark%29%7Bpath%2Cpolygon%2Crect%7Bfill%3A%23e1e0e2%21important%7D%7D%3C%2Fstyle%3E%3Cg%3E%3Cpath%20d%3D%22M0%2C33.4h1v6.3c0%2C1.1%2C0.5%2C1.7%2C1.7%2C1.7s1.7-0.5%2C1.7-1.7v-6.3h1v6.3c0%2C1.8-1%2C2.5-2.7%2C2.5C1%2C42.3%2C0%2C41.5%2C0%2C39.7%20V33.4z%22%3E%3C%2Fpath%3E%3Cpolygon%20points%3D%228.1%2C42.2%208.1%2C33.4%209.4%2C33.4%2012.6%2C40.4%2012.7%2C40.4%2012.7%2C33.4%2013.7%2C33.4%2013.7%2C42.2%2012.4%2C42.2%209.1%2C34.9%209%2C34.9%209%2C42.2%22%3E%3C%2Fpolygon%3E%3Crect%20x%3D%2216.5%22%20width%3D%221%22%20y%3D%2233.4%22%20height%3D%228.7%22%3E%3C%2Frect%3E%3Cpolygon%20points%3D%2224.4%2C33.4%2025.4%2C33.4%2023.1%2C42.2%2021.7%2C42.2%2019.4%2C33.4%2020.5%2C33.4%2022.4%2C40.9%2022.5%2C40.9%22%3E%3C%2Fpolygon%3E%3Cpolygon%20points%3D%2227.4%2C42.2%2027.4%2C33.4%2032.1%2C33.4%2032.1%2C34.3%2028.4%2C34.3%2028.4%2C37.2%2031.6%2C37.2%2031.6%2C38.1%2028.4%2C38.1%2028.4%2C41.3%2032.3%2C41.3%2032.3%2C42.2%22%3E%3C%2Fpolygon%3E%3Cpath%20d%3D%22M35.3%2C37.6h1.8c1.1%2C0%2C1.6-0.5%2C1.6-1.6c0-1.1-0.5-1.6-1.6-1.6h-1.8V37.6z%20M35.3%2C42.2h-1v-8.7h3%20c1.6%2C0%2C2.5%2C0.9%2C2.5%2C2.5c0%2C1.3-0.6%2C2-1.2%2C2.3l1.3%2C3.9h-1.1l-1.2-3.6h-2.3V42.2z%22%3E%3C%2Fpath%3E%3Cpath%20d%3D%22M46.7%2C35.6c-0.1-1-0.6-1.4-1.7-1.4c-1%2C0-1.7%2C0.4-1.7%2C1.4c0%2C1%2C0.8%2C1.2%2C1.9%2C1.6c1.4%2C0.4%2C2.7%2C0.9%2C2.7%2C2.6%20c0%2C1.7-1.1%2C2.5-2.8%2C2.5c-1.8%2C0-2.8-0.8-2.9-2.5l1-0.1c0.1%2C1.2%2C0.7%2C1.7%2C1.9%2C1.7c1.1%2C0%2C1.8-0.5%2C1.8-1.5c0-1-0.6-1.3-1.9-1.7%20c-1.4-0.4-2.6-0.8-2.6-2.5c0-1.7%2C1.1-2.4%2C2.8-2.4c1.6%2C0%2C2.6%2C0.6%2C2.8%2C2.2L46.7%2C35.6z%22%3E%3C%2Fpath%3E%3Crect%20x%3D%2250.2%22%20width%3D%221%22%20y%3D%2233.4%22%20height%3D%228.7%22%3E%3C%2Frect%3E%3Cpath%20d%3D%22M55%2C41.3h1.9c1%2C0%2C1.7-0.5%2C1.7-1.5v-4c0-1-0.6-1.5-1.7-1.5H55V41.3z%20M54%2C33.4h2.8c1.8%2C0%2C2.8%2C0.7%2C2.8%2C2.5v3.7%20c0%2C1.8-1%2C2.5-2.8%2C2.5H54V33.4z%22%3E%3C%2Fpath%3E%3Cpath%20d%3D%22M63.2%2C39.1H66l-1.3-4.6h-0.1L63.2%2C39.1z%20M62.4%2C42.2h-1.1l2.6-8.7h1.5l2.6%2C8.7h-1.1L66.3%2C40H63L62.4%2C42.2z%22%3E%3C%2Fpath%3E%3Cpath%20d%3D%22M70.9%2C41.3h1.9c1%2C0%2C1.7-0.5%2C1.7-1.5v-4c0-1-0.6-1.5-1.7-1.5h-1.9V41.3z%20M69.8%2C33.4h2.8%20c1.8%2C0%2C2.8%2C0.7%2C2.8%2C2.5v3.7c0%2C1.8-1%2C2.5-2.8%2C2.5h-2.8V33.4z%22%3E%3C%2Fpath%3E%3Cpolygon%20points%3D%2281.3%2C42.2%2081.3%2C33.4%2082.6%2C33.4%2085.8%2C40.4%2085.9%2C40.4%2085.9%2C33.4%2086.9%2C33.4%2086.9%2C42.2%2085.6%2C42.2%2082.3%2C34.9%2082.2%2C34.9%2082.2%2C42.2%22%3E%3C%2Fpolygon%3E%3Cpath%20d%3D%22M90.7%2C39.1h2.8l-1.3-4.6H92L90.7%2C39.1z%20M89.8%2C42.2h-1.1l2.6-8.7h1.5l2.6%2C8.7h-1.1L93.7%2C40h-3.3L89.8%2C42.2z%22%3E%3C%2Fpath%3E%3Cpath%20d%3D%22M101.2%2C36.1v-0.4c0-1.1-0.5-1.5-1.7-1.5c-1.1%2C0-1.8%2C0.4-1.8%2C1.5v4.1c0%2C1.1%2C0.6%2C1.5%2C1.8%2C1.5%20c1.1%2C0%2C1.7-0.5%2C1.7-1.5v-0.4l1%2C0.1v0.1c0%2C1.8-0.9%2C2.6-2.7%2C2.6c-1.8%2C0-2.8-0.7-2.8-2.5v-4c0-1.8%2C1-2.5%2C2.8-2.5%20c1.8%2C0%2C2.7%2C0.7%2C2.7%2C2.6V36L101.2%2C36.1z%22%3E%3C%2Fpath%3E%3Crect%20x%3D%22104.7%22%20width%3D%221%22%20y%3D%2233.4%22%20height%3D%228.7%22%3E%3C%2Frect%3E%3Cpath%20d%3D%22M109.3%2C39.9c0%2C1.1%2C0.7%2C1.5%2C1.8%2C1.5c1.1%2C0%2C1.8-0.4%2C1.8-1.5v-4.1c0-1.1-0.7-1.5-1.8-1.5%20c-1.1%2C0-1.8%2C0.4-1.8%2C1.5V39.9z%20M108.3%2C35.8c0-1.9%2C1-2.5%2C2.8-2.5c1.8%2C0%2C2.8%2C0.7%2C2.8%2C2.5v3.9c0%2C1.9-1%2C2.5-2.8%2C2.5%20c-1.8%2C0-2.8-0.7-2.8-2.5V35.8z%22%3E%3C%2Fpath%3E%3Cpolygon%20points%3D%22116.5%2C42.2%20116.5%2C33.4%20117.8%2C33.4%20121%2C40.4%20121.1%2C40.4%20121.1%2C33.4%20122%2C33.4%20122%2C42.2%20120.8%2C42.2%20117.5%2C34.9%20117.4%2C34.9%20117.4%2C42.2%22%3E%3C%2Fpolygon%3E%3Cpath%20d%3D%22M125.9%2C39.1h2.8l-1.3-4.6h-0.1L125.9%2C39.1z%20M125%2C42.2h-1.1l2.6-8.7h1.5l2.6%2C8.7h-1.1l-0.6-2.1h-3.3%20L125%2C42.2z%22%3E%3C%2Fpath%3E%3Cpolygon%20points%3D%22132.5%2C42.2%20132.5%2C33.4%20133.5%2C33.4%20133.5%2C41.3%20136.5%2C41.3%20136.5%2C42.2%22%3E%3C%2Fpolygon%3E%3Cpath%20d%3D%22M1.2%2C57h1.9c1%2C0%2C1.7-0.5%2C1.7-1.5v-4c0-1-0.6-1.5-1.7-1.5H1.2V57z%20M0.1%2C49.1H3c1.8%2C0%2C2.8%2C0.7%2C2.8%2C2.5v3.7%20c0%2C1.8-1%2C2.5-2.8%2C2.5H0.1V49.1z%22%3E%3C%2Fpath%3E%3Cpolygon%20points%3D%228.3%2C57.9%208.3%2C49.1%2013%2C49.1%2013%2C50%209.3%2C50%209.3%2C52.9%2012.6%2C52.9%2012.6%2C53.8%209.3%2C53.8%209.3%2C57%2013.2%2C57%2013.2%2C57.9%22%3E%3C%2Fpolygon%3E%3Cpolygon%20points%3D%2219.7%2C50.1%2017.6%2C50.1%2017.6%2C49.1%2022.7%2C49.1%2022.7%2C50.1%2020.7%2C50.1%2020.7%2C57.9%2019.7%2C57.9%22%3E%3C%2Fpolygon%3E%3Cpath%20d%3D%22M25.6%2C53.3h1.8c1.1%2C0%2C1.6-0.5%2C1.6-1.6c0-1.1-0.5-1.6-1.6-1.6h-1.8V53.3z%20M25.6%2C57.9h-1v-8.7h3%20c1.6%2C0%2C2.5%2C0.9%2C2.5%2C2.5c0%2C1.3-0.6%2C2-1.2%2C2.3l1.3%2C3.9h-1.1l-1.2-3.6h-2.3V57.9z%22%3E%3C%2Fpath%3E%3Cpolygon%20points%3D%2232.8%2C57.9%2032.8%2C49.1%2037.5%2C49.1%2037.5%2C50%2033.8%2C50%2033.8%2C52.9%2037%2C52.9%2037%2C53.8%2033.8%2C53.8%2033.8%2C57%2037.7%2C57%2037.7%2C57.9%22%3E%3C%2Fpolygon%3E%3Cpath%20d%3D%22M44%2C51.3c-0.1-1-0.6-1.4-1.7-1.4c-1%2C0-1.7%2C0.4-1.7%2C1.4c0%2C1%2C0.8%2C1.2%2C1.9%2C1.6c1.4%2C0.4%2C2.7%2C0.9%2C2.7%2C2.6%20c0%2C1.7-1.1%2C2.5-2.8%2C2.5c-1.8%2C0-2.8-0.8-2.9-2.5l1-0.1c0.1%2C1.2%2C0.7%2C1.7%2C1.9%2C1.7c1.1%2C0%2C1.8-0.5%2C1.8-1.5c0-1-0.6-1.3-1.9-1.7%20c-1.4-0.4-2.6-0.8-2.6-2.5c0-1.7%2C1.1-2.4%2C2.8-2.4c1.6%2C0%2C2.6%2C0.6%2C2.8%2C2.2L44%2C51.3z%22%3E%3C%2Fpath%3E%3Cpath%20d%3D%22M51.8%2C57h1.9c1.1%2C0%2C1.7-0.5%2C1.7-1.5v-4c0-1-0.6-1.5-1.7-1.5h-1.9V57z%20M50.8%2C49.1h2.8c1.8%2C0%2C2.8%2C0.7%2C2.8%2C2.5%20v3.7c0%2C1.8-1%2C2.5-2.8%2C2.5h-2.8V49.1z%22%3E%3C%2Fpath%3E%3Cpolygon%20points%3D%2258.9%2C57.9%2058.9%2C49.1%2063.6%2C49.1%2063.6%2C50%2059.9%2C50%2059.9%2C52.9%2063.2%2C52.9%2063.2%2C53.8%2059.9%2C53.8%2059.9%2C57%2063.8%2C57%2063.8%2C57.9%22%3E%3C%2Fpolygon%3E%3Cpolygon%20points%3D%2269.2%2C57.9%2069.2%2C49.1%2073.6%2C49.1%2073.6%2C50%2070.2%2C50%2070.2%2C52.9%2073.2%2C52.9%2073.2%2C53.8%2070.2%2C53.8%2070.2%2C57.9%22%3E%3C%2Fpolygon%3E%3Cpolygon%20points%3D%2275.6%2C57.9%2075.6%2C49.1%2080.3%2C49.1%2080.3%2C50%2076.6%2C50%2076.6%2C52.9%2079.8%2C52.9%2079.8%2C53.8%2076.6%2C53.8%2076.6%2C57%2080.5%2C57%2080.5%2C57.9%22%3E%3C%2Fpolygon%3E%3Cpath%20d%3D%22M83.5%2C57h2.1c1.1%2C0%2C1.7-0.6%2C1.7-1.6c0-1.1-0.6-1.6-1.7-1.6h-2V57z%20M83.5%2C52.9h2c1%2C0%2C1.5-0.5%2C1.5-1.4%20c0-1-0.5-1.4-1.5-1.4h-2V52.9z%20M82.5%2C49.1h3.3c1.6%2C0%2C2.3%2C0.7%2C2.3%2C2.2c0%2C1-0.3%2C1.6-1%2C1.9v0.1c0.6%2C0.2%2C1.2%2C0.9%2C1.2%2C2.1%20c0%2C1.5-0.7%2C2.4-2.4%2C2.4h-3.4V49.1z%22%3E%3C%2Fpath%3E%3Cpath%20d%3D%22M91.9%2C53.3h1.8c1.1%2C0%2C1.6-0.5%2C1.6-1.6c0-1.1-0.5-1.6-1.6-1.6h-1.8V53.3z%20M91.9%2C57.9h-1v-8.7h3%20c1.6%2C0%2C2.5%2C0.9%2C2.5%2C2.5c0%2C1.3-0.6%2C2-1.2%2C2.3l1.3%2C3.9h-1.1l-1.2-3.6h-2.3V57.9z%22%3E%3C%2Fpath%3E%3Cpolygon%20points%3D%2299%2C57.9%2099%2C49.1%20103.7%2C49.1%20103.7%2C50%20100%2C50%20100%2C52.9%20103.3%2C52.9%20103.3%2C53.8%20100%2C53.8%20100%2C57%20103.9%2C57%20103.9%2C57.9%22%3E%3C%2Fpolygon%3E%3Cpath%20d%3D%22M107%2C53.3h1.8c1.1%2C0%2C1.6-0.5%2C1.6-1.6c0-1.1-0.5-1.6-1.6-1.6H107V53.3z%20M107%2C57.9h-1v-8.7h3%20c1.6%2C0%2C2.5%2C0.9%2C2.5%2C2.5c0%2C1.3-0.6%2C2-1.2%2C2.3l1.3%2C3.9h-1.1l-1.2-3.6H107V57.9z%22%3E%3C%2Fpath%3E%3Cpath%20d%3D%22M114.9%2C55.6c0%2C1.1%2C0.7%2C1.5%2C1.8%2C1.5c1.1%2C0%2C1.8-0.4%2C1.8-1.5v-4.1c0-1.1-0.7-1.5-1.8-1.5%20c-1.1%2C0-1.8%2C0.4-1.8%2C1.5V55.6z%20M113.9%2C51.5c0-1.9%2C1-2.5%2C2.8-2.5c1.8%2C0%2C2.8%2C0.7%2C2.8%2C2.5v3.9c0%2C1.9-1%2C2.5-2.8%2C2.5%20c-1.8%2C0-2.8-0.7-2.8-2.5V51.5z%22%3E%3C%2Fpath%3E%3Crect%20y%3D%2223.7%22%20width%3D%2296.4%22%20height%3D%223.6%22%3E%3C%2Frect%3E%3Cpath%20d%3D%22M69.1%2C17.5V0h11.5v2.9h-8V7h7.3v2.9h-7.3v4.7H81v2.9H69.1z%20M85.3%2C17.5V0h11v2.9h-7.6V7h6.9v2.9h-6.9v7.6%20H85.3z%20M54.5%2C17.5H51V0h7.2C62.1%2C0%2C64%2C1.8%2C64%2C5.3c0%2C2.8-1.4%2C4.1-2.7%2C4.6l2.9%2C7.6h-3.8L58%2C10.5h-3.5V17.5z%20M54.5%2C7.7h2.9%20c2%2C0%2C3-0.6%2C3-2.5c0-1.9-1-2.5-3-2.5h-2.9V7.7z%20M39.9%2C2.9h-4.4V0h12.4v2.9h-4.4v14.6h-3.5V2.9z%20M18.8%2C17.5V0h4.1l5.8%2C11.7h0.2V0h3.4%20v17.5h-4L22.2%2C5.3h-0.2v12.2H18.8z%20M0.1%2C0h3.5v12.1c0%2C2%2C1%2C2.8%2C3%2C2.8c2%2C0%2C3-0.8%2C3-2.8V0h3.5v12.1c0%2C3.8-2.3%2C5.7-6.5%2C5.7%20c-4.2%2C0-6.5-1.9-6.5-5.7V0z%22%3E%3C%2Fpath%3E%3C%2Fg%3E%3C%2Fsvg%3E\" style=\"height: 50px;\" />\n",
    "</p>\n",
    "\n",
    "<h3 style=\"text-align: center\">Estructura de Datos</h3>\n",
    "\n",
    "<h2 style=\"text-align: center\">Guía 1: Introducción a Python</h3>"
   ]
  },
  {
   "cell_type": "markdown",
   "id": "28070546-ffda-4931-ae69-0b1bbfb39ad8",
   "metadata": {
    "editable": false,
    "id": "28070546-ffda-4931-ae69-0b1bbfb39ad8",
    "tags": []
   },
   "source": [
    "**Ej 1:** Escribir una función con parámetros variables que devuelva la suma los cuadrados de todos los parámetros recibidos."
   ]
  },
  {
   "cell_type": "code",
   "execution_count": null,
   "id": "6c7b5f54-5ce4-477a-b100-6e3dec55ae20",
   "metadata": {
    "editable": true,
    "id": "6c7b5f54-5ce4-477a-b100-6e3dec55ae20",
    "tags": []
   },
   "outputs": [],
   "source": [
    "def suma_cuadrados(*args):\n",
    "    \"\"\"\n",
    "    Calcula la suma de los cuadrados de todos los números pasados como argumentos.\n",
    "\n",
    "    Args:\n",
    "        *args: Una tupla de números.\n",
    "\n",
    "    Returns:\n",
    "        La suma de los cuadrados de todos los números.\n",
    "    \"\"\"\n",
    "    result = 0\n",
    "\n",
    "    for n in args:\n",
    "        result += n*n\n",
    "\n",
    "    return result"
   ]
  },
  {
   "cell_type": "code",
   "execution_count": null,
   "id": "d2f04d73-ff03-4fe8-9778-901c5503b488",
   "metadata": {
    "editable": false,
    "id": "d2f04d73-ff03-4fe8-9778-901c5503b488",
    "outputId": "b03fa659-03fb-41e4-c505-9ba4bf4c980f",
    "tags": []
   },
   "outputs": [
    {
     "name": "stderr",
     "output_type": "stream",
     "text": [
      "test_suma_cuadrados_cero (__main__.TestSumaCuadrados.test_suma_cuadrados_cero) ... ok\n",
      "test_suma_cuadrados_flotantes (__main__.TestSumaCuadrados.test_suma_cuadrados_flotantes) ... ok\n",
      "test_suma_cuadrados_negativos (__main__.TestSumaCuadrados.test_suma_cuadrados_negativos) ... ok\n",
      "test_suma_cuadrados_positivos (__main__.TestSumaCuadrados.test_suma_cuadrados_positivos) ... ok\n",
      "test_suma_cuadrados_sin_numeros (__main__.TestSumaCuadrados.test_suma_cuadrados_sin_numeros) ... ok\n",
      "test_suma_cuadrados_un_numero (__main__.TestSumaCuadrados.test_suma_cuadrados_un_numero) ... ok\n",
      "\n",
      "----------------------------------------------------------------------\n",
      "Ran 6 tests in 0.006s\n",
      "\n",
      "OK\n"
     ]
    },
    {
     "data": {
      "text/plain": [
       "True"
      ]
     },
     "execution_count": 15,
     "metadata": {},
     "output_type": "execute_result"
    }
   ],
   "source": [
    "from unittest import TestCase, main\n",
    "\n",
    "\n",
    "class TestSumaCuadrados(TestCase):\n",
    "    def test_suma_cuadrados_positivos(self):\n",
    "        self.assertEqual(suma_cuadrados(2, 3, 4), 29)\n",
    "\n",
    "    def test_suma_cuadrados_negativos(self):\n",
    "        self.assertEqual(suma_cuadrados(-1, 2, -3), 14)\n",
    "\n",
    "    def test_suma_cuadrados_cero(self):\n",
    "        self.assertEqual(suma_cuadrados(0), 0)\n",
    "\n",
    "    def test_suma_cuadrados_un_numero(self):\n",
    "        self.assertEqual(suma_cuadrados(5), 25)\n",
    "\n",
    "    def test_suma_cuadrados_sin_numeros(self):\n",
    "        self.assertEqual(suma_cuadrados(), 0)\n",
    "\n",
    "    def test_suma_cuadrados_flotantes(self):\n",
    "        self.assertEqual(suma_cuadrados(1.5, 2.5), 8.5)\n",
    "\n",
    "\n",
    "test = main(argv=[\"\"], defaultTest=\"TestSumaCuadrados\", verbosity=2, exit=False)\n",
    "len(test.result.failures) == 0"
   ]
  },
  {
   "cell_type": "markdown",
   "id": "8d3583ec-a3b5-4da4-ac28-4af0c312f4ab",
   "metadata": {
    "editable": false,
    "id": "8d3583ec-a3b5-4da4-ac28-4af0c312f4ab",
    "tags": []
   },
   "source": [
    "**Ej 2:** Escribir una función que reciba una lista de enteros y devuelve una lista sin los números impares."
   ]
  },
  {
   "cell_type": "code",
   "execution_count": null,
   "id": "a681987c-f227-4aef-9f77-425d28d246af",
   "metadata": {
    "editable": true,
    "id": "a681987c-f227-4aef-9f77-425d28d246af",
    "tags": []
   },
   "outputs": [],
   "source": [
    "def eliminar_impares(lista):\n",
    "    \"\"\"Elimina los números impares de una lista.\n",
    "\n",
    "    Args:\n",
    "        lista: Una lista de números.\n",
    "\n",
    "    Returns:\n",
    "        Una nueva lista con solo los números pares.\n",
    "    \"\"\"\n",
    "    i = 0\n",
    "    while i < len(lista):\n",
    "        if lista[i] % 2 != 0:\n",
    "            lista.remove(lista[i])\n",
    "        else:\n",
    "            i = i + 1\n",
    "\n",
    "    return lista"
   ]
  },
  {
   "cell_type": "code",
   "execution_count": null,
   "id": "4f7bd572-a51e-4961-9401-696407c68ebd",
   "metadata": {
    "editable": false,
    "id": "4f7bd572-a51e-4961-9401-696407c68ebd",
    "outputId": "1bb9f251-efbc-4764-ed38-1edefcd58b45",
    "tags": []
   },
   "outputs": [
    {
     "name": "stderr",
     "output_type": "stream",
     "text": [
      "test_lista_vacia (__main__.TestEliminarImpares.test_lista_vacia) ... ok\n",
      "test_mezcla_pares_impares (__main__.TestEliminarImpares.test_mezcla_pares_impares) ... ok\n",
      "test_numeros_grandes (__main__.TestEliminarImpares.test_numeros_grandes) ... ok\n",
      "test_numeros_negativos (__main__.TestEliminarImpares.test_numeros_negativos) ... ok\n",
      "test_solo_impares (__main__.TestEliminarImpares.test_solo_impares) ... ok\n",
      "test_solo_pares (__main__.TestEliminarImpares.test_solo_pares) ... ok\n",
      "\n",
      "----------------------------------------------------------------------\n",
      "Ran 6 tests in 0.007s\n",
      "\n",
      "OK\n"
     ]
    },
    {
     "data": {
      "text/plain": [
       "True"
      ]
     },
     "execution_count": 37,
     "metadata": {},
     "output_type": "execute_result"
    }
   ],
   "source": [
    "from unittest import TestCase, main\n",
    "\n",
    "\n",
    "class TestEliminarImpares(TestCase):\n",
    "    def test_lista_vacia(self):\n",
    "        self.assertEqual(eliminar_impares([]), [])\n",
    "\n",
    "    def test_solo_pares(self):\n",
    "        self.assertEqual(eliminar_impares([2, 4, 6]), [2, 4, 6])\n",
    "\n",
    "    def test_solo_impares(self):\n",
    "        self.assertEqual(eliminar_impares([1, 3, 5]), [])\n",
    "\n",
    "    def test_mezcla_pares_impares(self):\n",
    "        self.assertEqual(eliminar_impares([1, 2, 3, 4, 5]), [2, 4])\n",
    "\n",
    "    def test_numeros_negativos(self):\n",
    "        self.assertEqual(eliminar_impares([-2, 1, -4, 3]), [-2, -4])\n",
    "\n",
    "    def test_numeros_grandes(self):\n",
    "        self.assertEqual(eliminar_impares([1000, 2001, 3000]), [1000, 3000])\n",
    "\n",
    "\n",
    "test = main(argv=[\"\"], defaultTest=\"TestEliminarImpares\", verbosity=2, exit=False)\n",
    "len(test.result.failures) == 0"
   ]
  },
  {
   "cell_type": "markdown",
   "id": "7515b230-b96a-447a-b69c-7adad18cdd28",
   "metadata": {
    "editable": false,
    "id": "7515b230-b96a-447a-b69c-7adad18cdd28",
    "tags": []
   },
   "source": [
    "**Ej 3:** Escribir una función que realice la división entera entre dos números, usando restas sucesivas. Debe devolver el cociente y el resto.\n",
    "\n",
    "> _**Pista 1**_: el resto se calcula cómo se explica en https://es.wikipedia.org/wiki/Resto\n",
    "\n",
    "> _**Pista 2**_: Python implementa `divmod`, que es la misma funcionalidad que se pide en este punto. Se recomienda hacer `help(divmod)` para más detalles."
   ]
  },
  {
   "cell_type": "code",
   "execution_count": null,
   "id": "ca44109e-029d-4bf8-b1fc-cdbec0bb102a",
   "metadata": {
    "editable": true,
    "id": "ca44109e-029d-4bf8-b1fc-cdbec0bb102a",
    "tags": []
   },
   "outputs": [],
   "source": [
    "def dividir(dividendo, divisor):\n",
    "    \"\"\"Realiza la división entera entre dos números utilizando restas sucesivas, manejando números negativos.\n",
    "\n",
    "    Args:\n",
    "        dividendo: El número a dividir.\n",
    "        divisor: El número por el cual se divide. Si el divisor es 0 levanta un ValueError\n",
    "\n",
    "    Returns:\n",
    "        Una tupla (cociente, resto) donde:\n",
    "            - cociente: El resultado de la división entera.\n",
    "            - resto: El resto de la división, siempre positivo y menor en valor absoluto que el divisor.\n",
    "    \"\"\"\n",
    "    if divisor == 0:\n",
    "        raise ZeroDivisionError(\"El divisor no puede ser 0\")\n",
    "\n",
    "    if dividendo == 0:\n",
    "        return (dividendo, 0)\n",
    "\n",
    "    cociente = 0\n",
    "\n",
    "    \"\"\"\n",
    "    if (dividendo > 0 and divisor > 0) or (dividendo < 0 and divisor < 0):\n",
    "        dividendo = abs(dividendo)\n",
    "        divisor = abs(divisor)\n",
    "\n",
    "        while dividendo >= divisor:\n",
    "            dividendo -= divisor\n",
    "            cociente += 1\n",
    "\n",
    "    elif dividendo > 0 and divisor < 0:\n",
    "        while dividendo >= abs(divisor):\n",
    "            dividendo -= abs(divisor)\n",
    "            cociente += 1\n",
    "\n",
    "        cociente = (-1)*cociente\n",
    "\n",
    "    # dividendo < 0 and dividendo > 0\n",
    "    else:\n",
    "        while dividendo <= divisor:\n",
    "            dividendo += divisor\n",
    "            cociente -= 1\n",
    "\n",
    "        cociente += 1\n",
    "        dividendo -= divisor\n",
    "\n",
    "    return (cociente, dividendo)\n",
    "    \"\"\"\n",
    "\n",
    "    if dividendo > 0 and divisor < 0:\n",
    "        while dividendo >= abs(divisor):\n",
    "            dividendo -= abs(divisor)\n",
    "            cociente += 1\n",
    "\n",
    "        cociente = (-1)*cociente\n",
    "        return (cociente, dividendo)\n",
    "\n",
    "    if dividendo < 0 and divisor < 0:\n",
    "        dividendo = abs(dividendo)\n",
    "        divisor = abs(divisor)\n",
    "\n",
    "    resto = dividendo\n",
    "\n",
    "    while abs(resto) >= divisor:\n",
    "        if resto > 0:\n",
    "            resto -= divisor\n",
    "            cociente += 1\n",
    "        else:\n",
    "            resto += divisor\n",
    "            cociente -= 1\n",
    "\n",
    "    if dividendo < 0 and divisor > 0:\n",
    "        cociente -= 1\n",
    "        resto += divisor\n",
    "\n",
    "    return (cociente, resto)\n"
   ]
  },
  {
   "cell_type": "code",
   "execution_count": null,
   "id": "a3e97f81-1df7-4101-ab79-32f629998134",
   "metadata": {
    "editable": false,
    "id": "a3e97f81-1df7-4101-ab79-32f629998134",
    "outputId": "ee3bd8dd-07b5-4405-9836-21288cabd052",
    "tags": []
   },
   "outputs": [
    {
     "name": "stderr",
     "output_type": "stream",
     "text": [
      "test_con_resto_negativo (__main__.TestDivisionEnteraRestas.test_con_resto_negativo) ... ok\n",
      "test_con_resto_positivo (__main__.TestDivisionEnteraRestas.test_con_resto_positivo) ... ok\n",
      "test_dividendo_cero (__main__.TestDivisionEnteraRestas.test_dividendo_cero) ... ok\n",
      "test_dividir_por_cero (__main__.TestDivisionEnteraRestas.test_dividir_por_cero) ... ok\n",
      "test_division_exacta_negativos (__main__.TestDivisionEnteraRestas.test_division_exacta_negativos) ... ok\n",
      "test_division_exacta_positivos (__main__.TestDivisionEnteraRestas.test_division_exacta_positivos) ... ok\n",
      "test_divisor_negativo (__main__.TestDivisionEnteraRestas.test_divisor_negativo) ... ok\n",
      "test_divisor_uno_negativo (__main__.TestDivisionEnteraRestas.test_divisor_uno_negativo) ... ok\n",
      "test_divisor_uno_positivo (__main__.TestDivisionEnteraRestas.test_divisor_uno_positivo) ... ok\n",
      "\n",
      "----------------------------------------------------------------------\n",
      "Ran 9 tests in 0.008s\n",
      "\n",
      "OK\n"
     ]
    },
    {
     "data": {
      "text/plain": [
       "True"
      ]
     },
     "execution_count": 54,
     "metadata": {},
     "output_type": "execute_result"
    }
   ],
   "source": [
    "from unittest import TestCase, main\n",
    "\n",
    "\n",
    "class TestDivisionEnteraRestas(TestCase):\n",
    "    def test_division_exacta_positivos(self):\n",
    "        cociente, resto = dividir(10, 2)\n",
    "        self.assertEqual(cociente, 5)\n",
    "        self.assertEqual(resto, 0)\n",
    "\n",
    "    def test_division_exacta_negativos(self):\n",
    "        cociente, resto = dividir(-10, -2)\n",
    "        self.assertEqual(cociente, 5)\n",
    "        self.assertEqual(resto, 0)\n",
    "\n",
    "    def test_con_resto_positivo(self):\n",
    "        cociente, resto = dividir(17, 5)\n",
    "        self.assertEqual(cociente, 3)\n",
    "        self.assertEqual(resto, 2)\n",
    "\n",
    "    def test_con_resto_negativo(self):\n",
    "        cociente, resto = dividir(-17, 5)\n",
    "        self.assertEqual(cociente, -4)\n",
    "        self.assertEqual(resto, 3)\n",
    "\n",
    "    def test_divisor_uno_positivo(self):\n",
    "        cociente, resto = dividir(10, 1)\n",
    "        self.assertEqual(cociente, 10)\n",
    "        self.assertEqual(resto, 0)\n",
    "\n",
    "    def test_divisor_uno_negativo(self):\n",
    "        cociente, resto = dividir(-10, -1)\n",
    "        self.assertEqual(cociente, 10)\n",
    "        self.assertEqual(resto, 0)\n",
    "\n",
    "    def test_dividendo_cero(self):\n",
    "        cociente, resto = dividir(0, 5)\n",
    "        self.assertEqual(cociente, 0)\n",
    "        self.assertEqual(resto, 0)\n",
    "\n",
    "    def test_divisor_negativo(self):\n",
    "        cociente, resto = dividir(10, -2)\n",
    "        self.assertEqual(cociente, -5)\n",
    "        self.assertEqual(resto, 0)\n",
    "\n",
    "    def test_dividir_por_cero(self):\n",
    "        with self.assertRaises(ZeroDivisionError):\n",
    "            dividir(10, 0)\n",
    "\n",
    "\n",
    "test = main(argv=[\"\"], defaultTest=\"TestDivisionEnteraRestas\", verbosity=2, exit=False)\n",
    "len(test.result.failures) == 0"
   ]
  },
  {
   "cell_type": "markdown",
   "id": "637df139-4321-4f8f-ac14-9de1bf4e9b26",
   "metadata": {
    "editable": false,
    "id": "637df139-4321-4f8f-ac14-9de1bf4e9b26",
    "tags": []
   },
   "source": [
    "**Ej 4:** Escribir una función que reciba una cadena y devuelva un diccionario, donde la clave del diccionario es un entero, iniciando en `0` y el valor es el caracter de la cadena. **Crear el diccionario por comprehensión**.\n",
    "\n",
    "> _**Pista:**_ Usar `enumerate()` para obtener el índice junto al caracter de la cadena."
   ]
  },
  {
   "cell_type": "code",
   "execution_count": null,
   "id": "7a36f67a-3258-48df-82b6-49353b159420",
   "metadata": {
    "editable": true,
    "id": "7a36f67a-3258-48df-82b6-49353b159420",
    "tags": []
   },
   "outputs": [],
   "source": [
    "def cadena_a_diccionario(cadena):\n",
    "    \"\"\"Convierte una cadena en un diccionario donde las claves son índices y los valores son caracteres.\n",
    "\n",
    "    Args:\n",
    "        cadena: La cadena de entrada.\n",
    "\n",
    "    Returns:\n",
    "        Un diccionario donde las claves son índices (enteros) y los valores son los caracteres de la cadena.\n",
    "    \"\"\"\n",
    "    dicc = {}\n",
    "\n",
    "    for i, char in enumerate(cadena):\n",
    "        dicc[i] = char\n",
    "\n",
    "    return dicc"
   ]
  },
  {
   "cell_type": "code",
   "execution_count": null,
   "id": "f30d8184-2b9e-4c8a-a898-90c3045b633d",
   "metadata": {
    "editable": false,
    "id": "f30d8184-2b9e-4c8a-a898-90c3045b633d",
    "outputId": "daf3b424-1bae-43f8-ece9-4d70fca3abdf",
    "tags": []
   },
   "outputs": [
    {
     "name": "stderr",
     "output_type": "stream",
     "text": [
      "test_cadena_corta (__main__.TestCadenaADiccionario.test_cadena_corta) ... ok\n",
      "test_cadena_larga (__main__.TestCadenaADiccionario.test_cadena_larga) ... ok\n",
      "test_cadena_vacia (__main__.TestCadenaADiccionario.test_cadena_vacia) ... ok\n",
      "\n",
      "----------------------------------------------------------------------\n",
      "Ran 3 tests in 0.002s\n",
      "\n",
      "OK\n"
     ]
    },
    {
     "data": {
      "text/plain": [
       "True"
      ]
     },
     "execution_count": 56,
     "metadata": {},
     "output_type": "execute_result"
    }
   ],
   "source": [
    "from unittest import TestCase, main\n",
    "\n",
    "\n",
    "class TestCadenaADiccionario(TestCase):\n",
    "    def test_cadena_vacia(self):\n",
    "        self.assertEqual(cadena_a_diccionario(\"\"), {})\n",
    "\n",
    "    def test_cadena_corta(self):\n",
    "        self.assertEqual(cadena_a_diccionario(\"hola\"), {0: \"h\", 1: \"o\", 2: \"l\", 3: \"a\"})\n",
    "\n",
    "    def test_cadena_larga(self):\n",
    "        cadena_larga = \"Esto es una cadena larga\"\n",
    "        resultado = cadena_a_diccionario(cadena_larga)\n",
    "        self.assertEqual(len(resultado), len(cadena_larga))\n",
    "        for i in range(len(cadena_larga)):\n",
    "            self.assertEqual(resultado[i], cadena_larga[i])\n",
    "\n",
    "\n",
    "test = main(argv=[\"\"], defaultTest=\"TestCadenaADiccionario\", verbosity=2, exit=False)\n",
    "len(test.result.failures) == 0"
   ]
  },
  {
   "cell_type": "markdown",
   "id": "5b33b963-7c99-4797-bea2-f5e45d149e0d",
   "metadata": {
    "editable": false,
    "id": "5b33b963-7c99-4797-bea2-f5e45d149e0d",
    "tags": []
   },
   "source": [
    "**Ej 5:** Escribir una función que reciba una cadena y devuelva `True` si la cadena es un palíndromo o `False` en caso contrario.\n",
    "\n",
    "> _**Nota:**_ no debe tener en cuenta los espacios entre palabras, ni distinguir entre mayúsculas y minúsculas, ni tener en cuenta las tildes, por ejemplo _**\"Anita lava la tina\"**_ y _**\"La ruta nos aportó otro paso natural\"**_ son palíndromos"
   ]
  },
  {
   "cell_type": "code",
   "execution_count": null,
   "id": "68c14cb7-18be-412c-8531-88f1c0790efa",
   "metadata": {
    "editable": true,
    "id": "68c14cb7-18be-412c-8531-88f1c0790efa",
    "tags": []
   },
   "outputs": [],
   "source": [
    "def es_palindromo(cadena):\n",
    "    \"\"\"Determina si una cadena es un palíndromo, ignorando espacios, mayúsculas y tildes.\n",
    "\n",
    "    Args:\n",
    "        cadena: La cadena a evaluar.\n",
    "\n",
    "    Returns:\n",
    "        True si la cadena es un palíndromo, False en caso contrario.\n",
    "    \"\"\"\n",
    "    cadena = cadena.replace(\" \", \"\")\n",
    "\n",
    "    # pasar todo a minuscula\n",
    "    cadena = cadena.lower()\n",
    "\n",
    "    # normalizar caracteres con tilde\n",
    "    acentos = {\n",
    "        \"á\": \"a\",\n",
    "        \"é\": \"e\",\n",
    "        \"í\": \"i\",\n",
    "        \"ó\": \"o\",\n",
    "        \"ú\": \"u\"\n",
    "    }\n",
    "\n",
    "    cadena_normalizada = \"\"\n",
    "    for char in cadena:\n",
    "        if char in acentos.keys():\n",
    "            cadena_normalizada = cadena_normalizada + acentos[char]\n",
    "        else:\n",
    "            cadena_normalizada = cadena_normalizada + char\n",
    "\n",
    "    return cadena_normalizada == cadena_normalizada[::-1]\n"
   ]
  },
  {
   "cell_type": "code",
   "execution_count": null,
   "id": "2dbf5303-6891-4ed9-a85e-3580e7499f3b",
   "metadata": {
    "editable": false,
    "id": "2dbf5303-6891-4ed9-a85e-3580e7499f3b",
    "outputId": "3fa7553f-c466-47be-aa2c-b371b13a32cc",
    "tags": []
   },
   "outputs": [
    {
     "name": "stderr",
     "output_type": "stream",
     "text": [
      "test_cadena_un_caracter (__main__.TestEsPalindromo.test_cadena_un_caracter) ... ok\n",
      "test_cadena_vacia (__main__.TestEsPalindromo.test_cadena_vacia) ... ok\n",
      "test_no_palindromo (__main__.TestEsPalindromo.test_no_palindromo) ... ok\n",
      "test_palindromo_con_espacios_y_mayusculas (__main__.TestEsPalindromo.test_palindromo_con_espacios_y_mayusculas) ... ok\n",
      "test_palindromo_simple (__main__.TestEsPalindromo.test_palindromo_simple) ... ok\n",
      "\n",
      "----------------------------------------------------------------------\n",
      "Ran 5 tests in 0.004s\n",
      "\n",
      "OK\n"
     ]
    },
    {
     "data": {
      "text/plain": [
       "True"
      ]
     },
     "execution_count": 58,
     "metadata": {},
     "output_type": "execute_result"
    }
   ],
   "source": [
    "from unittest import TestCase, main\n",
    "\n",
    "\n",
    "class TestEsPalindromo(TestCase):\n",
    "    def test_palindromo_simple(self):\n",
    "        self.assertTrue(es_palindromo(\"Anita lava la tina\"))\n",
    "\n",
    "    def test_palindromo_con_espacios_y_mayusculas(self):\n",
    "        self.assertTrue(es_palindromo(\"La ruta nos aportó otro paso natural\"))\n",
    "\n",
    "    def test_no_palindromo(self):\n",
    "        self.assertFalse(es_palindromo(\"Hola mundo\"))\n",
    "\n",
    "    def test_cadena_vacia(self):\n",
    "        self.assertTrue(es_palindromo(\"\"))\n",
    "\n",
    "    def test_cadena_un_caracter(self):\n",
    "        self.assertTrue(es_palindromo(\"a\"))\n",
    "\n",
    "\n",
    "test = main(argv=[\"\"], defaultTest=\"TestEsPalindromo\", verbosity=2, exit=False)\n",
    "len(test.result.failures) == 0"
   ]
  },
  {
   "cell_type": "markdown",
   "id": "052d4acc-d606-4d31-b2ec-f77fceb85270",
   "metadata": {
    "editable": false,
    "id": "052d4acc-d606-4d31-b2ec-f77fceb85270",
    "tags": []
   },
   "source": [
    "**Ej 6:** Escribir una función con la firma `def contador(inicio=0, paso=1)` que devuelva una función `contar`, que cada vez que se llama devuelva un valor distinto, resultado de incrementar el contador en el paso indicado. Por ejemplo la invocación\n",
    "\n",
    "```python\n",
    "contar = contador(10, 2)\n",
    "```\n",
    "\n",
    "devuelve una función, que no tiene parámetros y se asigna a la variable `contar`, y en cada llamada ```contar()``` devuelve los números pares empezando por el 10.\n",
    "\n",
    "> _**Pista:**_ Usar clausuras"
   ]
  },
  {
   "cell_type": "code",
   "execution_count": 1,
   "id": "f98fde7e-1139-475c-b169-9451d380198f",
   "metadata": {
    "editable": true,
    "executionInfo": {
     "elapsed": 465,
     "status": "ok",
     "timestamp": 1724198275565,
     "user": {
      "displayName": "Martín Albarracín Franzone",
      "userId": "11127797494988878301"
     },
     "user_tz": 180
    },
    "id": "f98fde7e-1139-475c-b169-9451d380198f",
    "tags": []
   },
   "outputs": [],
   "source": [
    "def contador(inicio=0, paso=1):\n",
    "    \"\"\"\n",
    "    Crea una función contadora personalizada.\n",
    "\n",
    "    Args:\n",
    "        inicio (int, optional): Valor inicial del contador. Defaults to 0.\n",
    "        paso (int, optional): Incremento en cada conteo. Defaults to 1.\n",
    "\n",
    "    Returns:\n",
    "        function: Una función que devuelve el siguiente valor del contador en cada llamada.\n",
    "    \"\"\"\n",
    "\n",
    "    cont = [inicio-paso]\n",
    "\n",
    "    def contar():\n",
    "        cont[0] = cont[0] + paso\n",
    "        return cont[0]\n",
    "\n",
    "    return contar\n"
   ]
  },
  {
   "cell_type": "code",
   "execution_count": 2,
   "id": "a2ff3b3b-8a8a-40fa-bd6b-d9af56f3ae26",
   "metadata": {
    "colab": {
     "base_uri": "https://localhost:8080/"
    },
    "editable": false,
    "executionInfo": {
     "elapsed": 381,
     "status": "ok",
     "timestamp": 1724198280931,
     "user": {
      "displayName": "Martín Albarracín Franzone",
      "userId": "11127797494988878301"
     },
     "user_tz": 180
    },
    "id": "a2ff3b3b-8a8a-40fa-bd6b-d9af56f3ae26",
    "outputId": "ccd73d05-7c38-4a9c-fb50-1c21eb01b67d",
    "tags": []
   },
   "outputs": [
    {
     "name": "stderr",
     "output_type": "stream",
     "text": [
      "test_contador_basico (__main__.TestContador) ... ok\n",
      "test_contador_inicio_y_paso (__main__.TestContador) ... ok\n",
      "test_contador_paso_negativo (__main__.TestContador) ... ok\n",
      "\n",
      "----------------------------------------------------------------------\n",
      "Ran 3 tests in 0.042s\n",
      "\n",
      "OK\n"
     ]
    },
    {
     "data": {
      "text/plain": [
       "True"
      ]
     },
     "execution_count": 2,
     "metadata": {},
     "output_type": "execute_result"
    }
   ],
   "source": [
    "from unittest import TestCase, main\n",
    "\n",
    "\n",
    "class TestContador(TestCase):\n",
    "    def test_contador_basico(self):\n",
    "        contar = contador()\n",
    "        self.assertEqual(contar(), 0)\n",
    "        self.assertEqual(contar(), 1)\n",
    "        self.assertEqual(contar(), 2)\n",
    "\n",
    "    def test_contador_inicio_y_paso(self):\n",
    "        contar = contador(10, 2)\n",
    "        self.assertEqual(contar(), 10)\n",
    "        self.assertEqual(contar(), 12)\n",
    "        self.assertEqual(contar(), 14)\n",
    "\n",
    "    def test_contador_paso_negativo(self):\n",
    "        contar = contador(10, -2)\n",
    "        self.assertEqual(contar(), 10)\n",
    "        self.assertEqual(contar(), 8)\n",
    "        self.assertEqual(contar(), 6)\n",
    "\n",
    "\n",
    "test = main(argv=[\"\"], defaultTest=\"TestContador\", verbosity=2, exit=False)\n",
    "len(test.result.failures) == 0"
   ]
  },
  {
   "cell_type": "markdown",
   "id": "e6d5b243-4481-41fb-8ce1-0a50a0bc671a",
   "metadata": {
    "editable": false,
    "id": "e6d5b243-4481-41fb-8ce1-0a50a0bc671a",
    "tags": []
   },
   "source": [
    "**Ej 7:** Dada la siguiente función.\n",
    "\n",
    "```python\n",
    "def agregar_mensaje(mensaje):\n",
    "    def decorador(funcion):\n",
    "        def wrapper(*args, **kwargs):\n",
    "            resultado = funcion(*args, **kwargs)\n",
    "            return mensaje + resultado\n",
    "        return wrapper\n",
    "    return decorador\n",
    "```\n",
    "\n",
    "1. ¿Qué devuelve la función `agregar_mensaje`?\n",
    "2. Mostrar un ejemplo de su uso"
   ]
  },
  {
   "cell_type": "markdown",
   "id": "7bf53f85-1279-49a5-beed-d10d3fae2c5b",
   "metadata": {
    "editable": true,
    "id": "7bf53f85-1279-49a5-beed-d10d3fae2c5b",
    "tags": []
   },
   "source": [
    "1. agregar_mensaje() toma un parametro string mensaje y me devuelte una funcion que toma como parametro una funcion decorator. A decorator hay que pasarle una funcion m que tome strings y los manipule para devuelver uno nuevo, y decorator a su vez devuelve una funcion wrapper. A wrapper se le puede pasar una cantidad indefinida de strings, y devuelve el resultado S de concatenar el mensaje inicial mensaje a la cadena que se obtiene de aplicar esos strings a la funcion m.\n",
    "\n",
    "    agregar_mensaje -> toma el mensaje inicial S, devuelve una funcion decorator.\n",
    "    decorator -> toma una funcion m que manipula strings y devuelve uno nuevo. Devuelve una funcion wrapper.\n",
    "    wrapper -> toma una cantidad indefinida de strings *args, devuelve el mensaje S concatenado a la cadena que devuelve m, luego de pasarle los strings args\n",
    "\n",
    "USO\n",
    "\n",
    "    decorator = agregar_mensaje(mensaje)\n",
    "    wrapper = decorator(funcion que toma strings y devuleve un nuevo string S)\n",
    "    w(str1, str2, ...) -> mensaje + S\n",
    "\n",
    "RESULTADO FINAL: mensaje + string de wrapper"
   ]
  },
  {
   "cell_type": "code",
   "execution_count": null,
   "id": "bd81524d-2166-4e02-853f-2e733ee2b27c",
   "metadata": {
    "editable": true,
    "id": "bd81524d-2166-4e02-853f-2e733ee2b27c",
    "outputId": "894d1f03-c404-4a37-99f4-b67bb167c787",
    "tags": []
   },
   "outputs": [
    {
     "name": "stdout",
     "output_type": "stream",
     "text": [
      "Hola como estas vos\n"
     ]
    }
   ],
   "source": [
    "# 2.\n",
    "# Ejemplo de uso\n",
    "def agregar_mensaje(mensaje):\n",
    "    def decorador(funcion):\n",
    "        def wrapper(*args, **kwargs):\n",
    "            resultado = funcion(*args, **kwargs)\n",
    "            return mensaje + resultado\n",
    "        return wrapper\n",
    "    return decorador\n",
    "\n",
    "d = agregar_mensaje(\"Hola\")\n",
    "# m = lambda a, b, c: \" \" + a + b + \" \" + c\n",
    "# w = d(lambda a, b, c: \" \" + a + b + \" \" + c)\n",
    "\n",
    "# La funcion lambda toma una cantidad indefinida de parametros y los concatena agregando un espacio de por medio entre cada una\n",
    "w = d(lambda *args: \" \" + \" \".join(args))\n",
    "\n",
    "print(w(\"como\", \"estas\", \"vos\")) # \"Hola como estas vos\""
   ]
  },
  {
   "cell_type": "markdown",
   "id": "2959545d-536f-457d-aaaa-a45dd8bb4f5b",
   "metadata": {
    "editable": false,
    "id": "2959545d-536f-457d-aaaa-a45dd8bb4f5b",
    "tags": []
   },
   "source": [
    "**Ej 8:** Escribir una clase llamada `Persona` con atributos: `nombre`, `fecha_nacimiento`, `dni`, `peso` (Kg) y `altura` (metros). Por defecto, todos los atributos menos el DNI tendrán valores por defecto según su tipo (0 para números, cadena vacía para Strings, etc.).\n",
    "\n",
    "Persona debe implementar los siguientes métodos:\n",
    "\n",
    "- `calcular_imc()`: Devuelve el Índice de Masa Corporal que se calcula como `peso / altura**2`.\n",
    "- `es_mayor_de_edad()`: Devuelve `True` si la persona tiene 18 o más año al día de hoy, o `False`en caso contrario."
   ]
  },
  {
   "cell_type": "code",
   "execution_count": 3,
   "id": "ed6fbab6-815f-4d97-b63a-b2bf011f3753",
   "metadata": {
    "editable": true,
    "executionInfo": {
     "elapsed": 331,
     "status": "ok",
     "timestamp": 1724198566993,
     "user": {
      "displayName": "Martín Albarracín Franzone",
      "userId": "11127797494988878301"
     },
     "user_tz": 180
    },
    "id": "ed6fbab6-815f-4d97-b63a-b2bf011f3753",
    "tags": []
   },
   "outputs": [],
   "source": [
    "import datetime\n",
    "\n",
    "class Persona:\n",
    "    def __init__(self, nombre=\"\", fechaNacimiento=None, DNI=0, peso=0, altura=0):\n",
    "        self.nombre = nombre\n",
    "        self.fechaNacimiento = fechaNacimiento\n",
    "        self.DNI = DNI\n",
    "        self.peso = peso\n",
    "        self.altura = altura\n",
    "\n",
    "\n",
    "    def calcular_imc(self):\n",
    "        if self.peso == 0 or self.altura == 0:\n",
    "            return None\n",
    "\n",
    "        return self.peso / self.altura**2\n",
    "\n",
    "\n",
    "    def es_mayor_de_edad(self):\n",
    "        if self.fechaNacimiento == None:\n",
    "            return False\n",
    "\n",
    "        anio_actual = datetime.date.today().year\n",
    "        return anio_actual - self.fechaNacimiento.year >= 18\n"
   ]
  },
  {
   "cell_type": "code",
   "execution_count": 4,
   "id": "9d3d4a03-cad4-4ce5-9849-1c3e53f6c43a",
   "metadata": {
    "colab": {
     "base_uri": "https://localhost:8080/"
    },
    "editable": false,
    "executionInfo": {
     "elapsed": 374,
     "status": "ok",
     "timestamp": 1724198569605,
     "user": {
      "displayName": "Martín Albarracín Franzone",
      "userId": "11127797494988878301"
     },
     "user_tz": 180
    },
    "id": "9d3d4a03-cad4-4ce5-9849-1c3e53f6c43a",
    "outputId": "6935a0c2-26c4-42d4-dcaf-b41c6dd1f294",
    "tags": []
   },
   "outputs": [
    {
     "name": "stderr",
     "output_type": "stream",
     "text": [
      "test_calcular_imc (__main__.TestPersona) ... ok\n",
      "test_es_mayor_de_edad (__main__.TestPersona) ... ok\n",
      "\n",
      "----------------------------------------------------------------------\n",
      "Ran 2 tests in 0.008s\n",
      "\n",
      "OK\n"
     ]
    },
    {
     "data": {
      "text/plain": [
       "True"
      ]
     },
     "execution_count": 4,
     "metadata": {},
     "output_type": "execute_result"
    }
   ],
   "source": [
    "from unittest import TestCase, main\n",
    "\n",
    "\n",
    "class TestPersona(TestCase):\n",
    "    def setUp(self):\n",
    "        self.persona1 = Persona(\"Juan Pérez\", datetime.date(2000, 1, 1), \"12345678\", 70, 1.75)\n",
    "        self.persona2 = Persona()\n",
    "\n",
    "    def test_calcular_imc(self):\n",
    "        self.assertAlmostEqual(self.persona1.calcular_imc(), 22.857, places=2)\n",
    "        self.assertIsNone(self.persona2.calcular_imc())\n",
    "\n",
    "    def test_es_mayor_de_edad(self):\n",
    "        self.assertTrue(self.persona1.es_mayor_de_edad())\n",
    "        self.assertFalse(self.persona2.es_mayor_de_edad())\n",
    "\n",
    "\n",
    "test = main(argv=[\"\"], defaultTest=\"TestPersona\", verbosity=2, exit=False)\n",
    "len(test.result.failures) == 0"
   ]
  },
  {
   "cell_type": "markdown",
   "id": "26b644b4-e884-4a11-bc95-07f93649ce7c",
   "metadata": {
    "editable": false,
    "id": "26b644b4-e884-4a11-bc95-07f93649ce7c",
    "tags": []
   },
   "source": [
    "**Ej 9:** Un banco necesita un sistema para administrar las cuentas de sus clientes.\n",
    "\n",
    "Los datos de un cliente son nombre y apellido, dni, domicilio, fecha de nacimiento y nacionalidad.\n",
    "\n",
    "Las cuentas pueden ser de tres tipos cajas de ahorro, cuenta corriente o plazo fijo.\n",
    "\n",
    "Una caja de ahorro tiene el nombre del titular y el monto de dinero guardado, además se puede depositar o extraer dinero.\n",
    "\n",
    "Una cuenta corriente tiene el nombre del titular, el monto guardado y un número de chequera asignada, y se puede depositar o extraer dinero.\n",
    "\n",
    "Un plazo fijo tiene el nombre del titular de la cuenta, el monto guardado, el período de tiempo, el interés, y se puede renovar o terminar.\n",
    "\n",
    "Todas las cuentas se identifican por un número de cuenta.\n",
    "\n",
    "El sistema debe también guardar los datos del banco: nombre del banco, número de sucursal, dirección y nombre del gerente.\n",
    "\n",
    "**Implementar en Python con POO**"
   ]
  },
  {
   "cell_type": "code",
   "execution_count": null,
   "id": "d41a7adf-017a-4174-a646-60638e015c6e",
   "metadata": {
    "editable": true,
    "id": "d41a7adf-017a-4174-a646-60638e015c6e",
    "tags": []
   },
   "outputs": [],
   "source": [
    "class Cliente:\n",
    "    def __init__(self, nombre, apellido, dni, fechaNacimiento, nacionalidad):\n",
    "        self.nombre = nombre\n",
    "        self.apellido = apellido\n",
    "        self.dni = dni\n",
    "        self.fechaNacimiento = fechaNacimiento\n",
    "        self.nacionalidad = nacionalidad\n",
    "\n",
    "\n",
    "class Cuenta:\n",
    "    def __init__(self, nombreTitular, montoGuardado, numeroCuenta, nombreBanco, numeroSucursal, direccionBanco, nombreGerente):\n",
    "        self.nombreTitular = nombreTitular\n",
    "        self.montoGuardado = montoGuardado\n",
    "        self.numeroCuenta = numeroCuenta\n",
    "        self.nombreBanco = nombreBanco\n",
    "        self.numeroSucursal = numeroSucursal\n",
    "        self.direccionBanco = direccionBanco\n",
    "        self.nombreGerente = nombreGerente\n",
    "\n",
    "\n",
    "class CajaDeAhorro(Cuenta):\n",
    "    def __init__(self, nombreTitular, montoGuardado, numeroCuenta, nombreBanco, numeroSucursal, direccionBanco, nombreGerente):\n",
    "        super().__init__(nombreTitular, montoGuardado, numeroCuenta, nombreBanco, numeroSucursal, direccionBanco, nombreGerente)\n",
    "\n",
    "\n",
    "    def DepositarDinero():\n",
    "        pass\n",
    "\n",
    "\n",
    "    def RetirarDinero():\n",
    "        pass\n",
    "\n",
    "\n",
    "class CuentaCorriente(Cuenta):\n",
    "    def __init__(self, nombreTitular, montoGuardado, numeroCuenta, nombreBanco, numeroSucursal, direccionBanco, nombreGerente, numeroChequera):\n",
    "        super().__init__(nombreTitular, montoGuardado, numeroCuenta, nombreBanco, numeroSucursal, direccionBanco, nombreGerente)\n",
    "        self.numeroChequera = numeroChequera\n",
    "\n",
    "    def DepositarDinero():\n",
    "        pass\n",
    "\n",
    "\n",
    "    def RetirarDinero():\n",
    "        pass\n",
    "\n",
    "\n",
    "def PlazoFijo(Cuenta):\n",
    "    def __init__(self, nombreTitular, montoGuardado, numeroCuenta, nombreBanco, numeroSucursal, direccionBanco, nombreGerente, numeroChequera, periodoTiempo, interes):\n",
    "        super().__init__(nombreTitular, montoGuardado, numeroCuenta, nombreBanco, numeroSucursal, direccionBanco, nombreGerente)\n",
    "        self.periodoTiempo = periodoTiempo\n",
    "        self.interes = interes\n",
    "\n",
    "\n",
    "    def Renovar():\n",
    "        pass\n",
    "\n",
    "\n",
    "    def Terminar():\n",
    "        pass\n"
   ]
  },
  {
   "cell_type": "markdown",
   "id": "1188981b-d1e9-4002-b49b-95616b4ec8ea",
   "metadata": {
    "editable": false,
    "id": "1188981b-d1e9-4002-b49b-95616b4ec8ea",
    "tags": []
   },
   "source": [
    "**Ej 10:** Diseñar un sistema de clases para un videojuego de roles de fantasía medieval, donde los jugadores puedan crear personajes únicos combinando las habilidades de guerreros, magos y arqueros.\n",
    "\n",
    "Todos los pesonajes tienen un _**\"nombre\"**_ y se crean con los siguientes atributos _**\"salud: 100\"**_, _**\"fuerza: 10\"**_, _**\"agilidad: 10\"**_ e _**\"inteligencia: 10\"**_ y pueden _**\"atacar\"**_.\n",
    "\n",
    "Los guerreros se destacan en combate cuerpo a cuerpo y pueden realizar un _**\"ataque fuerte\"**_, los magos pueden _**\"lanzar hechizo\"**_ y los arqueros pueden _**\"disparar flecha\"**_.\n",
    "\n",
    "Los jugadores podrán crear personajes customizados que combinen estas habilidades, como un guerrero-mago o un arquero-guerrero.\n",
    "\n",
    "> _**Pista:**_ Usar reflexión"
   ]
  },
  {
   "cell_type": "code",
   "execution_count": null,
   "id": "ac46be21-2445-4f10-a388-243ee18f3fca",
   "metadata": {
    "editable": true,
    "id": "ac46be21-2445-4f10-a388-243ee18f3fca",
    "tags": []
   },
   "outputs": [],
   "source": [
    "class Personaje:\n",
    "    pass\n",
    "\n",
    "\n",
    "class Guerrero(Personaje):\n",
    "    pass\n",
    "\n",
    "\n",
    "class Mago(Personaje):\n",
    "    pass\n",
    "\n",
    "\n",
    "class Arquero(Personaje):\n",
    "    pass\n",
    "\n",
    "\n",
    "def crear_personaje_customizado(nombre_personaje, nombres_clases):\n",
    "    \"\"\"\n",
    "    Crea una clase personalizada que hereda de las clases proporcionadas y crea un objeto con el nombre dado.\n",
    "\n",
    "    Args:\n",
    "        nombre_personaje: El nombre del personaje a crear.\n",
    "        nombres_clases: Una lista de cadenas con los nombres de las clases.\n",
    "\n",
    "    Returns:\n",
    "        Un objeto de la clase personalizada creada.\n",
    "    \"\"\"\n",
    "    pass"
   ]
  },
  {
   "cell_type": "code",
   "execution_count": null,
   "id": "e820f383-e7c2-4919-b089-cc97ca26fdaf",
   "metadata": {
    "editable": true,
    "id": "e820f383-e7c2-4919-b089-cc97ca26fdaf",
    "tags": []
   },
   "outputs": [],
   "source": [
    "aragorn = crear_personaje_customizado(\"Aragorn\", [\"Guerrero\", \"Mago\"])\n",
    "aragorn.atacar()  # Ataque básico\n",
    "aragorn.lanzar_hechizo()  # Ataque de mago\n",
    "aragorn.ataque_fuerte()  # Ataque de guerrero"
   ]
  },
  {
   "cell_type": "code",
   "execution_count": null,
   "id": "b334eceb-f5fe-4056-a3fb-766ab05a68bf",
   "metadata": {
    "editable": true,
    "id": "b334eceb-f5fe-4056-a3fb-766ab05a68bf",
    "tags": []
   },
   "outputs": [],
   "source": [
    "for atributo, valor in vars(aragorn).items():\n",
    "    print(atributo, \":\", valor)"
   ]
  }
 ],
 "metadata": {
  "colab": {
   "provenance": []
  },
  "kernelspec": {
   "display_name": "Python 3 (ipykernel)",
   "language": "python",
   "name": "python3"
  },
  "language_info": {
   "codemirror_mode": {
    "name": "ipython",
    "version": 3
   },
   "file_extension": ".py",
   "mimetype": "text/x-python",
   "name": "python",
   "nbconvert_exporter": "python",
   "pygments_lexer": "ipython3",
   "version": "3.12.6"
  },
  "rise": {
   "start_slideshow_at": "beginning"
  }
 },
 "nbformat": 4,
 "nbformat_minor": 5
}
