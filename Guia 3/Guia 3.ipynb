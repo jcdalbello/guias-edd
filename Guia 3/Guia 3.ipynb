{
 "cells": [
  {
   "cell_type": "markdown",
   "id": "f05b7e77-8842-4ff5-bf9f-7433e68ccb68",
   "metadata": {
    "editable": false,
    "slideshow": {
     "slide_type": ""
    },
    "tags": []
   },
   "source": [
    "<p style=\"text-align: center\">\n",
    "    <img src=\"data:image/svg+xml,%3Csvg%20version%3D%221.2%22%20baseProfile%3D%22tiny%22%20id%3D%22Capa_1%22%20xmlns%3D%22http%3A%2F%2Fwww.w3.org%2F2000%2Fsvg%22%20xmlns%3Axlink%3D%22http%3A%2F%2Fwww.w3.org%2F1999%2Fxlink%22%20x%3D%220px%22%20y%3D%220px%22%20viewBox%3D%220%200%20136.5%2058%22%20overflow%3D%22visible%22%20xml%3Aspace%3D%22preserve%22%3E%3Cstyle%20type%3D%22text%2Fcss%22%3Epath%2Cpolygon%2Crect%7Bfill%3A%231e1f1d%21important%7D%40media%20%28prefers-color-scheme%3Adark%29%7Bpath%2Cpolygon%2Crect%7Bfill%3A%23e1e0e2%21important%7D%7D%3C%2Fstyle%3E%3Cg%3E%3Cpath%20d%3D%22M0%2C33.4h1v6.3c0%2C1.1%2C0.5%2C1.7%2C1.7%2C1.7s1.7-0.5%2C1.7-1.7v-6.3h1v6.3c0%2C1.8-1%2C2.5-2.7%2C2.5C1%2C42.3%2C0%2C41.5%2C0%2C39.7%20V33.4z%22%3E%3C%2Fpath%3E%3Cpolygon%20points%3D%228.1%2C42.2%208.1%2C33.4%209.4%2C33.4%2012.6%2C40.4%2012.7%2C40.4%2012.7%2C33.4%2013.7%2C33.4%2013.7%2C42.2%2012.4%2C42.2%209.1%2C34.9%209%2C34.9%209%2C42.2%22%3E%3C%2Fpolygon%3E%3Crect%20x%3D%2216.5%22%20width%3D%221%22%20y%3D%2233.4%22%20height%3D%228.7%22%3E%3C%2Frect%3E%3Cpolygon%20points%3D%2224.4%2C33.4%2025.4%2C33.4%2023.1%2C42.2%2021.7%2C42.2%2019.4%2C33.4%2020.5%2C33.4%2022.4%2C40.9%2022.5%2C40.9%22%3E%3C%2Fpolygon%3E%3Cpolygon%20points%3D%2227.4%2C42.2%2027.4%2C33.4%2032.1%2C33.4%2032.1%2C34.3%2028.4%2C34.3%2028.4%2C37.2%2031.6%2C37.2%2031.6%2C38.1%2028.4%2C38.1%2028.4%2C41.3%2032.3%2C41.3%2032.3%2C42.2%22%3E%3C%2Fpolygon%3E%3Cpath%20d%3D%22M35.3%2C37.6h1.8c1.1%2C0%2C1.6-0.5%2C1.6-1.6c0-1.1-0.5-1.6-1.6-1.6h-1.8V37.6z%20M35.3%2C42.2h-1v-8.7h3%20c1.6%2C0%2C2.5%2C0.9%2C2.5%2C2.5c0%2C1.3-0.6%2C2-1.2%2C2.3l1.3%2C3.9h-1.1l-1.2-3.6h-2.3V42.2z%22%3E%3C%2Fpath%3E%3Cpath%20d%3D%22M46.7%2C35.6c-0.1-1-0.6-1.4-1.7-1.4c-1%2C0-1.7%2C0.4-1.7%2C1.4c0%2C1%2C0.8%2C1.2%2C1.9%2C1.6c1.4%2C0.4%2C2.7%2C0.9%2C2.7%2C2.6%20c0%2C1.7-1.1%2C2.5-2.8%2C2.5c-1.8%2C0-2.8-0.8-2.9-2.5l1-0.1c0.1%2C1.2%2C0.7%2C1.7%2C1.9%2C1.7c1.1%2C0%2C1.8-0.5%2C1.8-1.5c0-1-0.6-1.3-1.9-1.7%20c-1.4-0.4-2.6-0.8-2.6-2.5c0-1.7%2C1.1-2.4%2C2.8-2.4c1.6%2C0%2C2.6%2C0.6%2C2.8%2C2.2L46.7%2C35.6z%22%3E%3C%2Fpath%3E%3Crect%20x%3D%2250.2%22%20width%3D%221%22%20y%3D%2233.4%22%20height%3D%228.7%22%3E%3C%2Frect%3E%3Cpath%20d%3D%22M55%2C41.3h1.9c1%2C0%2C1.7-0.5%2C1.7-1.5v-4c0-1-0.6-1.5-1.7-1.5H55V41.3z%20M54%2C33.4h2.8c1.8%2C0%2C2.8%2C0.7%2C2.8%2C2.5v3.7%20c0%2C1.8-1%2C2.5-2.8%2C2.5H54V33.4z%22%3E%3C%2Fpath%3E%3Cpath%20d%3D%22M63.2%2C39.1H66l-1.3-4.6h-0.1L63.2%2C39.1z%20M62.4%2C42.2h-1.1l2.6-8.7h1.5l2.6%2C8.7h-1.1L66.3%2C40H63L62.4%2C42.2z%22%3E%3C%2Fpath%3E%3Cpath%20d%3D%22M70.9%2C41.3h1.9c1%2C0%2C1.7-0.5%2C1.7-1.5v-4c0-1-0.6-1.5-1.7-1.5h-1.9V41.3z%20M69.8%2C33.4h2.8%20c1.8%2C0%2C2.8%2C0.7%2C2.8%2C2.5v3.7c0%2C1.8-1%2C2.5-2.8%2C2.5h-2.8V33.4z%22%3E%3C%2Fpath%3E%3Cpolygon%20points%3D%2281.3%2C42.2%2081.3%2C33.4%2082.6%2C33.4%2085.8%2C40.4%2085.9%2C40.4%2085.9%2C33.4%2086.9%2C33.4%2086.9%2C42.2%2085.6%2C42.2%2082.3%2C34.9%2082.2%2C34.9%2082.2%2C42.2%22%3E%3C%2Fpolygon%3E%3Cpath%20d%3D%22M90.7%2C39.1h2.8l-1.3-4.6H92L90.7%2C39.1z%20M89.8%2C42.2h-1.1l2.6-8.7h1.5l2.6%2C8.7h-1.1L93.7%2C40h-3.3L89.8%2C42.2z%22%3E%3C%2Fpath%3E%3Cpath%20d%3D%22M101.2%2C36.1v-0.4c0-1.1-0.5-1.5-1.7-1.5c-1.1%2C0-1.8%2C0.4-1.8%2C1.5v4.1c0%2C1.1%2C0.6%2C1.5%2C1.8%2C1.5%20c1.1%2C0%2C1.7-0.5%2C1.7-1.5v-0.4l1%2C0.1v0.1c0%2C1.8-0.9%2C2.6-2.7%2C2.6c-1.8%2C0-2.8-0.7-2.8-2.5v-4c0-1.8%2C1-2.5%2C2.8-2.5%20c1.8%2C0%2C2.7%2C0.7%2C2.7%2C2.6V36L101.2%2C36.1z%22%3E%3C%2Fpath%3E%3Crect%20x%3D%22104.7%22%20width%3D%221%22%20y%3D%2233.4%22%20height%3D%228.7%22%3E%3C%2Frect%3E%3Cpath%20d%3D%22M109.3%2C39.9c0%2C1.1%2C0.7%2C1.5%2C1.8%2C1.5c1.1%2C0%2C1.8-0.4%2C1.8-1.5v-4.1c0-1.1-0.7-1.5-1.8-1.5%20c-1.1%2C0-1.8%2C0.4-1.8%2C1.5V39.9z%20M108.3%2C35.8c0-1.9%2C1-2.5%2C2.8-2.5c1.8%2C0%2C2.8%2C0.7%2C2.8%2C2.5v3.9c0%2C1.9-1%2C2.5-2.8%2C2.5%20c-1.8%2C0-2.8-0.7-2.8-2.5V35.8z%22%3E%3C%2Fpath%3E%3Cpolygon%20points%3D%22116.5%2C42.2%20116.5%2C33.4%20117.8%2C33.4%20121%2C40.4%20121.1%2C40.4%20121.1%2C33.4%20122%2C33.4%20122%2C42.2%20120.8%2C42.2%20117.5%2C34.9%20117.4%2C34.9%20117.4%2C42.2%22%3E%3C%2Fpolygon%3E%3Cpath%20d%3D%22M125.9%2C39.1h2.8l-1.3-4.6h-0.1L125.9%2C39.1z%20M125%2C42.2h-1.1l2.6-8.7h1.5l2.6%2C8.7h-1.1l-0.6-2.1h-3.3%20L125%2C42.2z%22%3E%3C%2Fpath%3E%3Cpolygon%20points%3D%22132.5%2C42.2%20132.5%2C33.4%20133.5%2C33.4%20133.5%2C41.3%20136.5%2C41.3%20136.5%2C42.2%22%3E%3C%2Fpolygon%3E%3Cpath%20d%3D%22M1.2%2C57h1.9c1%2C0%2C1.7-0.5%2C1.7-1.5v-4c0-1-0.6-1.5-1.7-1.5H1.2V57z%20M0.1%2C49.1H3c1.8%2C0%2C2.8%2C0.7%2C2.8%2C2.5v3.7%20c0%2C1.8-1%2C2.5-2.8%2C2.5H0.1V49.1z%22%3E%3C%2Fpath%3E%3Cpolygon%20points%3D%228.3%2C57.9%208.3%2C49.1%2013%2C49.1%2013%2C50%209.3%2C50%209.3%2C52.9%2012.6%2C52.9%2012.6%2C53.8%209.3%2C53.8%209.3%2C57%2013.2%2C57%2013.2%2C57.9%22%3E%3C%2Fpolygon%3E%3Cpolygon%20points%3D%2219.7%2C50.1%2017.6%2C50.1%2017.6%2C49.1%2022.7%2C49.1%2022.7%2C50.1%2020.7%2C50.1%2020.7%2C57.9%2019.7%2C57.9%22%3E%3C%2Fpolygon%3E%3Cpath%20d%3D%22M25.6%2C53.3h1.8c1.1%2C0%2C1.6-0.5%2C1.6-1.6c0-1.1-0.5-1.6-1.6-1.6h-1.8V53.3z%20M25.6%2C57.9h-1v-8.7h3%20c1.6%2C0%2C2.5%2C0.9%2C2.5%2C2.5c0%2C1.3-0.6%2C2-1.2%2C2.3l1.3%2C3.9h-1.1l-1.2-3.6h-2.3V57.9z%22%3E%3C%2Fpath%3E%3Cpolygon%20points%3D%2232.8%2C57.9%2032.8%2C49.1%2037.5%2C49.1%2037.5%2C50%2033.8%2C50%2033.8%2C52.9%2037%2C52.9%2037%2C53.8%2033.8%2C53.8%2033.8%2C57%2037.7%2C57%2037.7%2C57.9%22%3E%3C%2Fpolygon%3E%3Cpath%20d%3D%22M44%2C51.3c-0.1-1-0.6-1.4-1.7-1.4c-1%2C0-1.7%2C0.4-1.7%2C1.4c0%2C1%2C0.8%2C1.2%2C1.9%2C1.6c1.4%2C0.4%2C2.7%2C0.9%2C2.7%2C2.6%20c0%2C1.7-1.1%2C2.5-2.8%2C2.5c-1.8%2C0-2.8-0.8-2.9-2.5l1-0.1c0.1%2C1.2%2C0.7%2C1.7%2C1.9%2C1.7c1.1%2C0%2C1.8-0.5%2C1.8-1.5c0-1-0.6-1.3-1.9-1.7%20c-1.4-0.4-2.6-0.8-2.6-2.5c0-1.7%2C1.1-2.4%2C2.8-2.4c1.6%2C0%2C2.6%2C0.6%2C2.8%2C2.2L44%2C51.3z%22%3E%3C%2Fpath%3E%3Cpath%20d%3D%22M51.8%2C57h1.9c1.1%2C0%2C1.7-0.5%2C1.7-1.5v-4c0-1-0.6-1.5-1.7-1.5h-1.9V57z%20M50.8%2C49.1h2.8c1.8%2C0%2C2.8%2C0.7%2C2.8%2C2.5%20v3.7c0%2C1.8-1%2C2.5-2.8%2C2.5h-2.8V49.1z%22%3E%3C%2Fpath%3E%3Cpolygon%20points%3D%2258.9%2C57.9%2058.9%2C49.1%2063.6%2C49.1%2063.6%2C50%2059.9%2C50%2059.9%2C52.9%2063.2%2C52.9%2063.2%2C53.8%2059.9%2C53.8%2059.9%2C57%2063.8%2C57%2063.8%2C57.9%22%3E%3C%2Fpolygon%3E%3Cpolygon%20points%3D%2269.2%2C57.9%2069.2%2C49.1%2073.6%2C49.1%2073.6%2C50%2070.2%2C50%2070.2%2C52.9%2073.2%2C52.9%2073.2%2C53.8%2070.2%2C53.8%2070.2%2C57.9%22%3E%3C%2Fpolygon%3E%3Cpolygon%20points%3D%2275.6%2C57.9%2075.6%2C49.1%2080.3%2C49.1%2080.3%2C50%2076.6%2C50%2076.6%2C52.9%2079.8%2C52.9%2079.8%2C53.8%2076.6%2C53.8%2076.6%2C57%2080.5%2C57%2080.5%2C57.9%22%3E%3C%2Fpolygon%3E%3Cpath%20d%3D%22M83.5%2C57h2.1c1.1%2C0%2C1.7-0.6%2C1.7-1.6c0-1.1-0.6-1.6-1.7-1.6h-2V57z%20M83.5%2C52.9h2c1%2C0%2C1.5-0.5%2C1.5-1.4%20c0-1-0.5-1.4-1.5-1.4h-2V52.9z%20M82.5%2C49.1h3.3c1.6%2C0%2C2.3%2C0.7%2C2.3%2C2.2c0%2C1-0.3%2C1.6-1%2C1.9v0.1c0.6%2C0.2%2C1.2%2C0.9%2C1.2%2C2.1%20c0%2C1.5-0.7%2C2.4-2.4%2C2.4h-3.4V49.1z%22%3E%3C%2Fpath%3E%3Cpath%20d%3D%22M91.9%2C53.3h1.8c1.1%2C0%2C1.6-0.5%2C1.6-1.6c0-1.1-0.5-1.6-1.6-1.6h-1.8V53.3z%20M91.9%2C57.9h-1v-8.7h3%20c1.6%2C0%2C2.5%2C0.9%2C2.5%2C2.5c0%2C1.3-0.6%2C2-1.2%2C2.3l1.3%2C3.9h-1.1l-1.2-3.6h-2.3V57.9z%22%3E%3C%2Fpath%3E%3Cpolygon%20points%3D%2299%2C57.9%2099%2C49.1%20103.7%2C49.1%20103.7%2C50%20100%2C50%20100%2C52.9%20103.3%2C52.9%20103.3%2C53.8%20100%2C53.8%20100%2C57%20103.9%2C57%20103.9%2C57.9%22%3E%3C%2Fpolygon%3E%3Cpath%20d%3D%22M107%2C53.3h1.8c1.1%2C0%2C1.6-0.5%2C1.6-1.6c0-1.1-0.5-1.6-1.6-1.6H107V53.3z%20M107%2C57.9h-1v-8.7h3%20c1.6%2C0%2C2.5%2C0.9%2C2.5%2C2.5c0%2C1.3-0.6%2C2-1.2%2C2.3l1.3%2C3.9h-1.1l-1.2-3.6H107V57.9z%22%3E%3C%2Fpath%3E%3Cpath%20d%3D%22M114.9%2C55.6c0%2C1.1%2C0.7%2C1.5%2C1.8%2C1.5c1.1%2C0%2C1.8-0.4%2C1.8-1.5v-4.1c0-1.1-0.7-1.5-1.8-1.5%20c-1.1%2C0-1.8%2C0.4-1.8%2C1.5V55.6z%20M113.9%2C51.5c0-1.9%2C1-2.5%2C2.8-2.5c1.8%2C0%2C2.8%2C0.7%2C2.8%2C2.5v3.9c0%2C1.9-1%2C2.5-2.8%2C2.5%20c-1.8%2C0-2.8-0.7-2.8-2.5V51.5z%22%3E%3C%2Fpath%3E%3Crect%20y%3D%2223.7%22%20width%3D%2296.4%22%20height%3D%223.6%22%3E%3C%2Frect%3E%3Cpath%20d%3D%22M69.1%2C17.5V0h11.5v2.9h-8V7h7.3v2.9h-7.3v4.7H81v2.9H69.1z%20M85.3%2C17.5V0h11v2.9h-7.6V7h6.9v2.9h-6.9v7.6%20H85.3z%20M54.5%2C17.5H51V0h7.2C62.1%2C0%2C64%2C1.8%2C64%2C5.3c0%2C2.8-1.4%2C4.1-2.7%2C4.6l2.9%2C7.6h-3.8L58%2C10.5h-3.5V17.5z%20M54.5%2C7.7h2.9%20c2%2C0%2C3-0.6%2C3-2.5c0-1.9-1-2.5-3-2.5h-2.9V7.7z%20M39.9%2C2.9h-4.4V0h12.4v2.9h-4.4v14.6h-3.5V2.9z%20M18.8%2C17.5V0h4.1l5.8%2C11.7h0.2V0h3.4%20v17.5h-4L22.2%2C5.3h-0.2v12.2H18.8z%20M0.1%2C0h3.5v12.1c0%2C2%2C1%2C2.8%2C3%2C2.8c2%2C0%2C3-0.8%2C3-2.8V0h3.5v12.1c0%2C3.8-2.3%2C5.7-6.5%2C5.7%20c-4.2%2C0-6.5-1.9-6.5-5.7V0z%22%3E%3C%2Fpath%3E%3C%2Fg%3E%3C%2Fsvg%3E\" style=\"height: 50px;\" />\n",
    "</p>\n",
    "\n",
    "<h3 style=\"text-align: center\">Estructura de Datos</h3>\n",
    "\n",
    "<h2 style=\"text-align: center\">Guía 3: Organización de Datos</h3>"
   ]
  },
  {
   "cell_type": "markdown",
   "id": "28070546-ffda-4931-ae69-0b1bbfb39ad8",
   "metadata": {
    "editable": false,
    "slideshow": {
     "slide_type": ""
    },
    "tags": []
   },
   "source": [
    "**Ej 1:** Agregar a la clase Agenda, que utiliza registros y campos de longitud fija, un método para buscar un registro por cualquiera de los campos de la Agenda.\n",
    "\n",
    "```python\n",
    "def buscar(self, **campos):\n",
    "    '''\n",
    "    Busca entre los registros de la Agenda que coincidan con los campos dados.\n",
    "    Devuelve una lista de diccionarios, donde cada diccionario corresponde a un\n",
    "    registro que cumple con los criterios de búsqueda\n",
    "    \n",
    "    :param campos: diccionarios con el nombre del campo como clave y el dato a buscar como valor.\n",
    "    '''\n",
    "    pass\n",
    "```"
   ]
  },
  {
   "cell_type": "code",
   "execution_count": null,
   "id": "6c7b5f54-5ce4-477a-b100-6e3dec55ae20",
   "metadata": {
    "editable": true,
    "slideshow": {
     "slide_type": ""
    },
    "tags": []
   },
   "outputs": [],
   "source": [
    "import os\n",
    "import struct\n",
    "\n",
    "\n",
    "class AgendaException(Exception):\n",
    "    \"\"\"Clase base para excepciones de Agenda\"\"\"\n",
    "\n",
    "    pass\n",
    "\n",
    "\n",
    "class Agenda:\n",
    "    \"\"\"Agenda con registros de tamaño fijo\n",
    "    y campos de longitud fija\n",
    "    \"\"\"\n",
    "\n",
    "    def __init__(self, archivo, **campos):\n",
    "        \"\"\"Constructor de la clase Agenda\n",
    "        :param archivo: nombre del archivo donde se guardan los registros\n",
    "        :param campos: diccionario con los campos de la agenda y su longitud\n",
    "        \"\"\"\n",
    "        self._archivo = archivo\n",
    "        self._campos = campos  # diccionario con los campos de la agenda y su longitud\n",
    "\n",
    "        # \"30s30s20s\" -> 30 caracteres para el primer campo, 30 para el segundo y 20 para el tercero\n",
    "        self._formato = \"\".join(f\"{longitud}s\" for longitud in campos.values())\n",
    "        self._len_registro = struct.calcsize(self._formato)\n",
    "\n",
    "        try:\n",
    "            # obtengo el tamaño del archivo si es mayor que cero ya teniamos registros guardados\n",
    "            tam_archivo = os.path.getsize(archivo)\n",
    "            self._cant_registros = tam_archivo // self._len_registro\n",
    "        except FileNotFoundError:\n",
    "            self._cant_registros = 0\n",
    "\n",
    "    def guardar_contacto(self, **datos):\n",
    "        campos_validos = set(self._campos.keys())\n",
    "        campos_recibidos = set(datos.keys())\n",
    "\n",
    "        if campos_validos != campos_recibidos:\n",
    "            raise AgendaException(\"Los campos recibidos no coinciden con los campos definidos en la agenda.\")\n",
    "\n",
    "        with open(self._archivo, \"ab\") as fd:\n",
    "            valores = [campo.encode() for campo in datos.values()]\n",
    "            fd.write(struct.pack(self._formato, *valores))\n",
    "        self._cant_registros += 1\n",
    "\n",
    "    def cantidad_registros(self):\n",
    "        return self._cant_registros\n",
    "\n",
    "    def campos(self):\n",
    "        return self._campos\n",
    "\n",
    "    def __iter__(self):\n",
    "        return AgendaIterator(self)\n",
    "\n",
    "\n",
    "class AgendaIterator:\n",
    "    def __init__(self, agenda):\n",
    "        self._agenda = agenda\n",
    "        self._index = 0\n",
    "\n",
    "    def __next__(self):\n",
    "        if self._index >= self._agenda._cant_registros:\n",
    "            raise StopIteration\n",
    "\n",
    "        with open(self._agenda._archivo, \"rb\") as fd:\n",
    "            posicion = self._index * self._agenda._len_registro\n",
    "            fd.seek(posicion)\n",
    "            registro = fd.read(self._agenda._len_registro)\n",
    "            self._index += 1\n",
    "            if len(registro) == self._agenda._len_registro:\n",
    "                valores = struct.unpack(self._agenda._formato, registro)\n",
    "                resultado = tuple(valor.decode() for valor in valores)\n",
    "            else:\n",
    "                raise AgendaException(\"Error al leer el registro.\")\n",
    "\n",
    "        return resultado"
   ]
  },
  {
   "cell_type": "code",
   "execution_count": null,
   "id": "243cc9b3-1e75-44be-9d62-ae2a355d6b49",
   "metadata": {
    "editable": true,
    "slideshow": {
     "slide_type": ""
    },
    "tags": []
   },
   "outputs": [],
   "source": [
    "# Ejemplo de uso"
   ]
  },
  {
   "attachments": {},
   "cell_type": "markdown",
   "id": "b2b49199-8456-4fab-aa21-78effad14b27",
   "metadata": {
    "editable": false,
    "slideshow": {
     "slide_type": ""
    },
    "tags": []
   },
   "source": [
    "**Ej 2:** Modificar la Agenda con registro de tamaño fijo, cantidad de campos fija y longitud de campos variable vista en clase para usar un separador entre campos, como se hace con las archivos CSV, en lugar de prefijar cada campo con su longitud."
   ]
  },
  {
   "cell_type": "code",
   "execution_count": null,
   "id": "4ad5cd55-19e4-4508-9322-a015516ffbd5",
   "metadata": {
    "editable": true,
    "slideshow": {
     "slide_type": ""
    },
    "tags": []
   },
   "outputs": [],
   "source": [
    "class AgendaException(Exception):\n",
    "    \"\"\"Clase base para excepciones de Agenda\"\"\"\n",
    "\n",
    "    pass\n",
    "\n",
    "\n",
    "class Agenda:\n",
    "    def __init__(self, archivo, longitud_registro, *campos):\n",
    "        \"\"\"\n",
    "        Inicializa la agenda con una longitud fija de registro, una cantidad fija de campos y un archivo binario.\n",
    "        :param archivo: Nombre del archivo binario donde se guardan los registros.\n",
    "        :param longitud_registro: Longitud fija de los registros.\n",
    "        :param campos: Nombres de los campos de la agenda.\n",
    "        \"\"\"\n",
    "        self._len_registro = longitud_registro\n",
    "        self._cantidad_campos = len(campos)\n",
    "        self._campos = campos\n",
    "        self._archivo = archivo\n",
    "        try:\n",
    "            # obtengo el tamaño del archivo si es mayor que cero ya teniamos registros guardados\n",
    "            tam_archivo = os.path.getsize(archivo)\n",
    "            self._cant_registros = tam_archivo // self._len_registro\n",
    "        except FileNotFoundError:\n",
    "            self._cant_registros = 0\n",
    "\n",
    "    def agregar_registro(self, **datos):\n",
    "        \"\"\"\n",
    "        Agrega un registro a la agenda.\n",
    "        :param datos: Valores de la forma campo:valor.\n",
    "        \"\"\"\n",
    "        if len(datos) != self._cantidad_campos:\n",
    "            raise AgendaException(f\"Se esperaban {self._cantidad_campos} campos, pero se recibieron {len(datos)}.\")\n",
    "        campos_validos = set(campos)\n",
    "        campos_recibidos = set(datos.keys())\n",
    "        if campos_validos != campos_recibidos:\n",
    "            raise AgendaException(\"Los campos recibidos no coinciden con los campos definidos en la agenda.\")\n",
    "        registro = \"\"\n",
    "        for valor in datos.values():\n",
    "            valor_str = str(valor)\n",
    "            longitud_campo = len(valor_str)\n",
    "            registro += f\"{longitud_campo:02d}{valor_str}\"  # 02d -> 2 caracteres, relleno con ceros a la izquierda\n",
    "\n",
    "        if len(registro) > self._len_registro + 2 * self._cantidad_campos:\n",
    "            raise AgendaException(f\"El registro excede la longitud fija permitida: {self.longitud_registro}.\")\n",
    "\n",
    "        registro = registro.ljust(self._len_registro)\n",
    "        with open(self._archivo, \"ab\") as archivo:\n",
    "            archivo.write(registro.encode())\n",
    "\n",
    "    def __iter__(self):\n",
    "        return AgendaIterator(self)\n",
    "\n",
    "\n",
    "class AgendaIterator:\n",
    "\n",
    "    def __init__(self, agenda):\n",
    "        self._agenda = agenda\n",
    "        self._index = 0\n",
    "\n",
    "    def __next__(self):\n",
    "        if self._index >= self._agenda._cant_registros:\n",
    "            raise StopIteration\n",
    "\n",
    "        with open(self._agenda._archivo, \"rb\") as fd:\n",
    "            posicion = self._index * self._agenda._len_registro\n",
    "            fd.seek(posicion)\n",
    "            registro = fd.read(self._agenda._len_registro)\n",
    "            if len(registro) != self._agenda._len_registro:\n",
    "                raise StopIteration(\"Registro corrupto.\")\n",
    "            self._index += 1\n",
    "            resultado = {}\n",
    "            for campo in self._agenda._campos:\n",
    "                longitud_campo = int(registro[:2])\n",
    "                valor = registro[2 : 2 + longitud_campo]\n",
    "                resultado[campo] = valor.decode()\n",
    "                registro = registro[2 + longitud_campo :]\n",
    "\n",
    "        return resultado"
   ]
  },
  {
   "cell_type": "code",
   "execution_count": null,
   "id": "4f7bd572-a51e-4961-9401-696407c68ebd",
   "metadata": {
    "editable": true,
    "slideshow": {
     "slide_type": ""
    },
    "tags": []
   },
   "outputs": [],
   "source": [
    "# Ejemplos de uso"
   ]
  },
  {
   "cell_type": "markdown",
   "id": "7515b230-b96a-447a-b69c-7adad18cdd28",
   "metadata": {
    "editable": false,
    "slideshow": {
     "slide_type": ""
    },
    "tags": []
   },
   "source": [
    "**Ej 3:**  Programar una nueva clase Agenda que soporte registros de longitud variable con cantidad de campos fija, es decir la longitud de los campos también debe ser variable. Cada registro y cada campo debe estar precedido por su longitud, para lo cual se deben utilizar 2 bytes."
   ]
  },
  {
   "cell_type": "code",
   "execution_count": null,
   "id": "ca44109e-029d-4bf8-b1fc-cdbec0bb102a",
   "metadata": {
    "editable": true,
    "slideshow": {
     "slide_type": ""
    },
    "tags": []
   },
   "outputs": [],
   "source": []
  },
  {
   "cell_type": "code",
   "execution_count": null,
   "id": "a3e97f81-1df7-4101-ab79-32f629998134",
   "metadata": {
    "editable": true,
    "slideshow": {
     "slide_type": ""
    },
    "tags": []
   },
   "outputs": [],
   "source": [
    "# Casos de Prueba"
   ]
  },
  {
   "cell_type": "markdown",
   "id": "637df139-4321-4f8f-ac14-9de1bf4e9b26",
   "metadata": {
    "editable": false,
    "slideshow": {
     "slide_type": ""
    },
    "tags": []
   },
   "source": [
    "**Ej 4:** Crear un programa para gestionar la tabla de posiciones de un torneo de futbol. Los datos se deben persistir en un archivo llamado torneo.csv con las siguientes columnas: Fecha-Partido, Equipo Local, Goles Local, Equipo Visitante, Goles Visitante. El programa debe poder gestionar alta, búsqueda y modificaciones de partidos. Por ejemplo debe permitir buscar todos los partidos que se jugaron en determinada fecha, o los partidos en lo que jugo un equipo determinado, indicando la condición de local o visitante. "
   ]
  },
  {
   "cell_type": "code",
   "execution_count": null,
   "id": "7a36f67a-3258-48df-82b6-49353b159420",
   "metadata": {
    "editable": true,
    "slideshow": {
     "slide_type": ""
    },
    "tags": []
   },
   "outputs": [],
   "source": []
  },
  {
   "cell_type": "code",
   "execution_count": null,
   "id": "f30d8184-2b9e-4c8a-a898-90c3045b633d",
   "metadata": {
    "editable": true,
    "slideshow": {
     "slide_type": ""
    },
    "tags": []
   },
   "outputs": [],
   "source": [
    "# Ejemplo de uso"
   ]
  },
  {
   "cell_type": "markdown",
   "id": "5b33b963-7c99-4797-bea2-f5e45d149e0d",
   "metadata": {
    "editable": false,
    "slideshow": {
     "slide_type": ""
    },
    "tags": []
   },
   "source": [
    "**Ej 5:** Escribir un programa que tome el archivo `torneo.csv` del ejercicio anterior y genere la tabla de posiciones en un archivo en formato json, con nombre `posiciones.json`, con el siguiente formato: `{\"posiciones\": {\"equipo1\": {\"puntos\": ptos_totales, \"goles a favor\": total_goles_a_favor, \"goles_en_contra\": total_goles_en_contra}, \"equipo2\": {\"puntos\": ptos_totales, \"goles a favor\": total_goles_a_favor, \"goles_en_contra\": total_goles_en_contra}, .....}}`. Donde para calcular los puntos por cada partido ganado se otorgan tres puntos, al ganador, y por cada empate un punto a cada equipo. "
   ]
  },
  {
   "cell_type": "code",
   "execution_count": null,
   "id": "68c14cb7-18be-412c-8531-88f1c0790efa",
   "metadata": {
    "editable": true,
    "slideshow": {
     "slide_type": ""
    },
    "tags": []
   },
   "outputs": [],
   "source": []
  },
  {
   "cell_type": "code",
   "execution_count": null,
   "id": "2dbf5303-6891-4ed9-a85e-3580e7499f3b",
   "metadata": {
    "editable": true,
    "slideshow": {
     "slide_type": ""
    },
    "tags": []
   },
   "outputs": [],
   "source": [
    "# Ejemplo de uso"
   ]
  },
  {
   "cell_type": "markdown",
   "id": "052d4acc-d606-4d31-b2ec-f77fceb85270",
   "metadata": {
    "editable": false,
    "slideshow": {
     "slide_type": ""
    },
    "tags": []
   },
   "source": [
    "**Ej 6:** Se tienen dos archivos CSV uno con columnas Código de Materia, Legajo, Nota,  y otro con Código de Materia, Departamento. Escribir una función en Python para devuelva un diccionario con clave Departamento y cuyo valor sea la cantidad de alumnos que aprobaron materias de ese Departamento (las materias se aprueban con nota mayor o igual a 4). "
   ]
  },
  {
   "cell_type": "code",
   "execution_count": null,
   "id": "f98fde7e-1139-475c-b169-9451d380198f",
   "metadata": {
    "editable": true,
    "slideshow": {
     "slide_type": ""
    },
    "tags": []
   },
   "outputs": [],
   "source": []
  },
  {
   "cell_type": "code",
   "execution_count": null,
   "id": "a2ff3b3b-8a8a-40fa-bd6b-d9af56f3ae26",
   "metadata": {
    "slideshow": {
     "slide_type": ""
    },
    "tags": []
   },
   "outputs": [],
   "source": [
    "# Casos de Prueba"
   ]
  },
  {
   "cell_type": "code",
   "execution_count": null,
   "id": "40cc431b-61ac-45e6-a513-9b7322e2e560",
   "metadata": {
    "editable": true,
    "slideshow": {
     "slide_type": ""
    },
    "tags": []
   },
   "outputs": [],
   "source": []
  },
  {
   "cell_type": "markdown",
   "id": "4a40418c-d0dc-45d2-8549-f9b60619254a",
   "metadata": {
    "editable": true,
    "raw_mimetype": "",
    "slideshow": {
     "slide_type": ""
    },
    "tags": []
   },
   "source": [
    "**Ej 7:**  Crear una base de datos de productos con atributos variables, es decir, donde cada producto pueda tener un conjunto distinto de atributos. Se deben poder listar, buscar un producto, por nombre, o cualquier otro atributo, registrar nuevos productos y eliminarlos. Los datos se deben serializar y persistir en archivo .json"
   ]
  },
  {
   "cell_type": "code",
   "execution_count": null,
   "id": "dace7ea9-d779-49b1-802b-edc99aac3221",
   "metadata": {
    "editable": true,
    "slideshow": {
     "slide_type": ""
    },
    "tags": []
   },
   "outputs": [],
   "source": []
  },
  {
   "cell_type": "code",
   "execution_count": null,
   "id": "bd81524d-2166-4e02-853f-2e733ee2b27c",
   "metadata": {
    "editable": true,
    "slideshow": {
     "slide_type": ""
    },
    "tags": []
   },
   "outputs": [],
   "source": [
    "# Ejemplo de uso"
   ]
  },
  {
   "cell_type": "markdown",
   "id": "2959545d-536f-457d-aaaa-a45dd8bb4f5b",
   "metadata": {
    "editable": false,
    "slideshow": {
     "slide_type": ""
    },
    "tags": []
   },
   "source": [
    "**Ej 8:** Crear un diccionario que represente a un producto con atributos nombre, precio, descripción y una lista de características. Serializar este diccionario a un archivo JSON. Implementar un menu que permita cargar el diccionario desde memoria, guardar un diccionario y agregar características a un producto existente. Manejar cualquier excepción que pueda surgir."
   ]
  },
  {
   "cell_type": "code",
   "execution_count": null,
   "id": "ed6fbab6-815f-4d97-b63a-b2bf011f3753",
   "metadata": {
    "editable": true,
    "slideshow": {
     "slide_type": ""
    },
    "tags": []
   },
   "outputs": [],
   "source": []
  },
  {
   "cell_type": "code",
   "execution_count": null,
   "id": "9d3d4a03-cad4-4ce5-9849-1c3e53f6c43a",
   "metadata": {
    "slideshow": {
     "slide_type": ""
    },
    "tags": []
   },
   "outputs": [],
   "source": [
    "# Casos de Prueba"
   ]
  },
  {
   "cell_type": "markdown",
   "id": "26b644b4-e884-4a11-bc95-07f93649ce7c",
   "metadata": {
    "editable": false,
    "slideshow": {
     "slide_type": ""
    },
    "tags": []
   },
   "source": [
    "**Ej 9:** Dada la jerarquias de punto y figuras en el plano visto en la segunda clase, escribir una capa de persistencia, sobre json, para que los datos de las figuras creadas se puedan guardar en disco y recuperar del mismo. Todas las figuras se deben guardar en un único archivo. Agregar al menú de main la opción de guardar todas las figuras al disco y de recuperarlas."
   ]
  },
  {
   "cell_type": "code",
   "execution_count": null,
   "id": "d41a7adf-017a-4174-a646-60638e015c6e",
   "metadata": {
    "editable": true,
    "slideshow": {
     "slide_type": ""
    },
    "tags": []
   },
   "outputs": [],
   "source": [
    "import math\n",
    "\n",
    "\n",
    "class Punto:\n",
    "    def __init__(self, coord_x=0, coord_y=0):\n",
    "        \"\"\"Constructor de la clase punto, por defecto construye\n",
    "        el punto en el origen\"\"\"\n",
    "        self.x = coord_x\n",
    "        self.y = coord_y\n",
    "\n",
    "    def mover(self, incremento_x, incremento_y):\n",
    "        self.x += incremento_x\n",
    "        self.y += incremento_y\n",
    "\n",
    "    def __str__(self):\n",
    "        \"\"\"Para imprimir un punto con print\"\"\"\n",
    "        return \"(%d, %d)\" % (self.x, self.y)\n",
    "\n",
    "\n",
    "class Figura:\n",
    "    \"\"\"En python no existen las clases abstractas, todas las clases son\n",
    "    concretas\"\"\"\n",
    "\n",
    "    def __init__(self, color_borde=0, color_relleno=0, visibilidad=True):\n",
    "        self.color_borde = color_borde\n",
    "        self.color_relleno = color_relleno\n",
    "        self.visibilidad = visibilidad\n",
    "\n",
    "    def visible(visibilidad):\n",
    "        self.visibilidad = visibilidad\n",
    "\n",
    "    def __str__(self):\n",
    "        \"\"\"Con introspeccion puedo preguntar el nombre de la clase y\n",
    "        el duck typing me permite llamar un método que todavía no está\n",
    "        definido\"\"\"\n",
    "        return \"%s: area: %s\" % (self.__class__.__name__, self.area())\n",
    "\n",
    "\n",
    "class Elipse(Figura):\n",
    "    def __init__(\n",
    "        self,\n",
    "        centro,\n",
    "        radio_menor,\n",
    "        radio_mayor,\n",
    "        color_borde=0,\n",
    "        color_relleno=0,\n",
    "        visibilidad=True,\n",
    "    ):\n",
    "        super().__init__(color_borde, color_relleno, visibilidad)\n",
    "        self.centro = centro\n",
    "        self.radio_menor = radio_menor\n",
    "        self.radio_mayor = radio_mayor\n",
    "\n",
    "    def area(self):\n",
    "        return math.pi * self.radio_menor * self.radio_mayor\n",
    "\n",
    "    def mover(self, incremento_x, incremento_y):\n",
    "        self.centro.mover(incremento_x, incremento_y)\n",
    "\n",
    "    def __str__(self):\n",
    "        return super().__str__() + \"\\n\\tcentro: \" + self.centro.__str__()\n",
    "\n",
    "\n",
    "class Circulo(Elipse):\n",
    "    def __init__(self, centro, radio, color_borde=0, color_relleno=0, visibilidad=True):\n",
    "        super().__init__(centro, radio, radio, color_borde, color_relleno, visibilidad)\n",
    "\n",
    "\n",
    "class Rectangulo(Figura):\n",
    "    def __init__(\n",
    "        self,\n",
    "        vertice_inf_izq,\n",
    "        vertice_sup_der,\n",
    "        color_borde=0,\n",
    "        color_relleno=0,\n",
    "        visibilidad=True,\n",
    "    ):\n",
    "        super().__init__(color_borde, color_relleno, visibilidad)\n",
    "        self.vertice_inf_izq = vertice_inf_izq\n",
    "        self.vertice_sup_der = vertice_sup_der\n",
    "\n",
    "    def area(self):\n",
    "        base = self.vertice_sup_der.x - self.vertice_inf_izq.x\n",
    "        altura = self.vertice_sup_der.y - self.vertice_inf_izq.y\n",
    "        return base * altura\n",
    "\n",
    "    def mover(self, incremento_x, incremento_y):\n",
    "        self.vertice_inf_izq.mover(incremento_x, incremento_y)\n",
    "        self.vertice_sup_der.mover(incremento_x, incremento_y)\n",
    "\n",
    "    def __str__(self):\n",
    "        return (\n",
    "            super().__str__()\n",
    "            + \"\\n\\tvertice_inf_izq: \"\n",
    "            + self.vertice_inf_izq.__str__()\n",
    "            + \"\\n\\tvertice_sup_der: \"\n",
    "            + self.vertice_sup_der.__str__()\n",
    "        )\n",
    "\n",
    "\n",
    "class Cuadrado(Rectangulo):\n",
    "    def __init__(self, vertice_inf_izq, lado, color_borde=0, color_relleno=0, visibilidad=True):\n",
    "        vertice_sup_der = Punto(vertice_inf_izq.x + lado, vertice_inf_izq.y + lado)\n",
    "        super().__init__(vertice_inf_izq, vertice_sup_der, color_borde, color_relleno, visibilidad)\n",
    "\n",
    "\n",
    "class Triangulo(Figura):\n",
    "    def __init__(self, punto1, punto2, punto3, color_borde=0, color_relleno=0, visibilidad=True):\n",
    "        super().__init__(color_borde, color_relleno, visibilidad)\n",
    "        self.p1 = punto1\n",
    "        self.p2 = punto2\n",
    "        self.p3 = punto3\n",
    "\n",
    "    def area(self):\n",
    "        \"\"\"[x1*(y3-y2) + x2*(y1-y3) + x3*(y2-y1)]/2\"\"\"\n",
    "\n",
    "        return (\n",
    "            self.p1.x * (self.p3.y - self.p2.y)\n",
    "            + self.p2.x * (self.p1.y - self.p3.y)\n",
    "            + self.p3.x * (self.p2.y - self.p1.y)\n",
    "        ) / 2\n",
    "\n",
    "    def mover(self, incremento_x, incremento_y):\n",
    "        self.p1.mover(incremento_x, incremento_y)\n",
    "        self.p2.mover(incremento_x, incremento_y)\n",
    "        self.p3.mover(incremento_x, incremento_y)\n",
    "\n",
    "    def __str__(self):\n",
    "        return (\n",
    "            super().__str__()\n",
    "            + \"\\n\\tPunto 1: \"\n",
    "            + self.p1.__str__()\n",
    "            + \"\\n\\tPunto 2: \"\n",
    "            + self.p2.__str__()\n",
    "            + \"\\n\\tPunto 3: \"\n",
    "            + self.p3.__str__()\n",
    "        )\n",
    "\n",
    "\n",
    "def crear_elipse():\n",
    "    x, y = input(\"Ingrese centro de la elipse\").split()\n",
    "    x = int(x)\n",
    "    y = int(y)\n",
    "    r = float(input(\"Ingrese radio menor\"))\n",
    "    s = float(input(\"Ingrese radio mayor\"))\n",
    "    return Elipse(Punto(x, y), r, s)\n",
    "\n",
    "\n",
    "def crear_circulo():\n",
    "    x, y = input(\"Ingrese centro del circulo\").split()\n",
    "    x = int(x)\n",
    "    y = int(y)\n",
    "    r = float(input(\"Ingrese el radio\"))\n",
    "    return Circulo(Punto(x, y), r)\n",
    "\n",
    "\n",
    "def crear_rectangulo():\n",
    "    x1, y1 = input(\"Ingrese vertice inferior izquierdo\").split()\n",
    "    x1 = int(x1)\n",
    "    y1 = int(y1)\n",
    "    x2, y2 = input(\"Ingrese vertice superior derecho\").split()\n",
    "    x2 = int(x2)\n",
    "    y2 = int(y2)\n",
    "    return Rectangulo(Punto(x1, y1), Punto(x2, y2))\n",
    "\n",
    "\n",
    "def crear_cuadrado():\n",
    "    x1, y1 = input(\"Ingrese vertice inferior izquierdo\").split()\n",
    "    x1 = int(x1)\n",
    "    y1 = int(y1)\n",
    "    lado = float(input(\"Ingrese lado\"))\n",
    "    return Cuadrado(Punto(x1, y1), lado)\n",
    "\n",
    "\n",
    "def crear_triangulo():\n",
    "    x1, y1 = input(\"Ingrese punto 1 del triangulo\").split()\n",
    "    x1 = int(x1)\n",
    "    y1 = int(y1)\n",
    "    x2, y2 = input(\"Ingrese punto 2 del triangulo\").split()\n",
    "    x2 = int(x2)\n",
    "    y2 = int(y2)\n",
    "    x3, y3 = input(\"Ingrese punto 3 del triangulo\").split()\n",
    "    x3 = int(x3)\n",
    "    y3 = int(y3)\n",
    "    return Triangulo(Punto(x1, y1), Punto(x2, y2), Punto(x3, y3))\n",
    "\n",
    "\n",
    "if __name__ == \"__main__\":\n",
    "    switcher = {\n",
    "        \"e\": crear_elipse,\n",
    "        \"c\": crear_circulo,\n",
    "        \"r\": crear_rectangulo,\n",
    "        \"q\": crear_cuadrado,\n",
    "        \"t\": crear_triangulo,\n",
    "    }\n",
    "    figuras = []\n",
    "    while True:\n",
    "        print(\"Crear Figura:\")\n",
    "        print(\"\\te: Elipse\")\n",
    "        print(\"\\tc: Círculo\")\n",
    "        print(\"\\tr: Rectángulo\")\n",
    "        print(\"\\tq: Cuadrado\")\n",
    "        print(\"\\tt: Triángulo\")\n",
    "        op = input(\"Elija una opción\")\n",
    "        fig = switcher[op]()\n",
    "        figuras.append(fig)\n",
    "        continuar = input(\"Agregar otra figura [s/n]\")\n",
    "        if continuar[0].lower() != \"s\":\n",
    "            break\n",
    "\n",
    "    for fig in figuras:\n",
    "        print(fig)"
   ]
  },
  {
   "cell_type": "code",
   "execution_count": null,
   "id": "90fb5a84-90cb-4d1d-a841-ce163e59f6a3",
   "metadata": {
    "editable": true,
    "slideshow": {
     "slide_type": ""
    },
    "tags": []
   },
   "outputs": [],
   "source": []
  }
 ],
 "metadata": {
  "kernelspec": {
   "display_name": "Python 3 (ipykernel)",
   "language": "python",
   "name": "python3"
  },
  "language_info": {
   "codemirror_mode": {
    "name": "ipython",
    "version": 3
   },
   "file_extension": ".py",
   "mimetype": "text/x-python",
   "name": "python",
   "nbconvert_exporter": "python",
   "pygments_lexer": "ipython3",
   "version": "3.12.5"
  },
  "rise": {
   "start_slideshow_at": "beginning"
  }
 },
 "nbformat": 4,
 "nbformat_minor": 5
}
